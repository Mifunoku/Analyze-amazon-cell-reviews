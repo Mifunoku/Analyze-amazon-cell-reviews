{
  "nbformat": 4,
  "nbformat_minor": 0,
  "metadata": {
    "colab": {
      "name": "Amazon cell&phone reviews.ipynb",
      "provenance": [],
      "collapsed_sections": [],
      "toc_visible": true,
      "authorship_tag": "ABX9TyOgtqc5RQS1ISstIcYZfPsi",
      "include_colab_link": true
    },
    "kernelspec": {
      "display_name": "Python 3",
      "name": "python3"
    },
    "language_info": {
      "name": "python"
    }
  },
  "cells": [
    {
      "cell_type": "markdown",
      "metadata": {
        "id": "view-in-github",
        "colab_type": "text"
      },
      "source": [
        "<a href=\"https://colab.research.google.com/github/Mifunoku/Analyze-amazon-cell-reviews/blob/main/Amazon_cell%26phone_reviews.ipynb\" target=\"_parent\"><img src=\"https://colab.research.google.com/assets/colab-badge.svg\" alt=\"Open In Colab\"/></a>"
      ]
    },
    {
      "cell_type": "markdown",
      "metadata": {
        "id": "vKpQb3GA33OD"
      },
      "source": [
        "Info\n",
        "\n",
        "product/productId: asin, e.g. amazon.com/dp/B00006HAXW\n",
        "\n",
        "product/title: title of the product\n",
        "\n",
        "product/price: price of the product\n",
        "\n",
        "review/userId: id of the user, e.g. A1RSDE90N6RSZF\n",
        "\n",
        "review/profileName: name of the user\n",
        "\n",
        "review/helpfulness: fraction of users who found the review helpful\n",
        "\n",
        "review/score: rating of the product\n",
        "\n",
        "review/time: time of the review (unix time)\n",
        "\n",
        "review/summary: review summary\n",
        "\n",
        "review/text: text of the review\n"
      ]
    },
    {
      "cell_type": "markdown",
      "metadata": {
        "id": "j9hn6I4M3pIQ"
      },
      "source": [
        "What to do?\n",
        "\n",
        "1.   How length of review influence score\n",
        "2.   sentiment analysis of score/review\n",
        "3.  fake reviews\n",
        "4.  najlepsze przedmioty do danej ceny\n",
        "5.  zastanowic sie nad zmiana wartosci 0/3\n",
        "6.  Making the Confusion Matrix\n",
        "from sklearn.metrics import confusion_matrix\n",
        "  \n",
        "cm = confusion_matrix(y_test, y_pred)\n",
        "\n",
        "\n",
        "\n"
      ]
    },
    {
      "cell_type": "markdown",
      "metadata": {
        "id": "dEhhq6BYt-LA"
      },
      "source": [
        "# Preprocessing, first analyze"
      ]
    },
    {
      "cell_type": "code",
      "metadata": {
        "id": "LpMypJx-sz29"
      },
      "source": [
        "import pandas as pd\n",
        "from sklearn.model_selection import train_test_split\n",
        "import matplotlib.pyplot as plt\n",
        "import numpy as np\n",
        "import seaborn as sns\n",
        "from sklearn.feature_extraction.text import CountVectorizer\n",
        "from sklearn.linear_model import LogisticRegression\n",
        "from sklearn.metrics import roc_auc_score,roc_curve, accuracy_score, confusion_matrix\n",
        "from sklearn.ensemble import RandomForestClassifier\n",
        "from sklearn.neighbors import KNeighborsClassifier\n",
        "from sklearn.model_selection import GridSearchCV\n",
        "from sklearn.svm import SVC\n",
        "import spacy\n",
        "import spacy.cli\n",
        "import re\n",
        "import nltk\n",
        "from nltk import FreqDist\n",
        "from nltk.sentiment.vader import SentimentIntensityAnalyzer\n",
        "from nltk.corpus import stopwords\n",
        "from datetime import datetime, timedelta\n",
        "from google.colab import drive\n"
      ],
      "execution_count": 211,
      "outputs": []
    },
    {
      "cell_type": "code",
      "metadata": {
        "colab": {
          "base_uri": "https://localhost:8080/"
        },
        "id": "LfMGt3p-2_9D",
        "outputId": "90d90df7-17e0-4b29-d9d0-6e4933893459"
      },
      "source": [
        "spacy.cli.download(\"en_core_web_lg\")"
      ],
      "execution_count": 191,
      "outputs": [
        {
          "output_type": "stream",
          "text": [
            "\u001b[38;5;2m✔ Download and installation successful\u001b[0m\n",
            "You can now load the model via spacy.load('en_core_web_lg')\n"
          ],
          "name": "stdout"
        }
      ]
    },
    {
      "cell_type": "code",
      "metadata": {
        "colab": {
          "base_uri": "https://localhost:8080/"
        },
        "id": "XITavLaR3X5a",
        "outputId": "37428e23-d673-4bb1-b4d9-39f58c6ab677"
      },
      "source": [
        "nltk.download('stopwords')\n",
        "nltk.download('vader_lexicon')"
      ],
      "execution_count": 148,
      "outputs": [
        {
          "output_type": "stream",
          "text": [
            "[nltk_data] Downloading package stopwords to /root/nltk_data...\n",
            "[nltk_data]   Package stopwords is already up-to-date!\n",
            "[nltk_data] Downloading package vader_lexicon to /root/nltk_data...\n",
            "[nltk_data]   Package vader_lexicon is already up-to-date!\n"
          ],
          "name": "stdout"
        },
        {
          "output_type": "execute_result",
          "data": {
            "text/plain": [
              "True"
            ]
          },
          "metadata": {
            "tags": []
          },
          "execution_count": 148
        }
      ]
    },
    {
      "cell_type": "code",
      "metadata": {
        "colab": {
          "base_uri": "https://localhost:8080/"
        },
        "id": "mdgyT2i1r4Qv",
        "outputId": "51b173fb-9b73-44f2-a40c-f68df8fa8cea"
      },
      "source": [
        "\n",
        "drive.mount('/content/drive')"
      ],
      "execution_count": 149,
      "outputs": [
        {
          "output_type": "stream",
          "text": [
            "Drive already mounted at /content/drive; to attempt to forcibly remount, call drive.mount(\"/content/drive\", force_remount=True).\n"
          ],
          "name": "stdout"
        }
      ]
    },
    {
      "cell_type": "code",
      "metadata": {
        "id": "mEcy7kXhtB4j"
      },
      "source": [
        "def parse(path):\n",
        "  f = open(path, 'r')\n",
        "  entry = {}\n",
        "  for l in f:\n",
        "    l = l.strip()\n",
        "    colonPos = l.find(':')\n",
        "    if colonPos == -1:\n",
        "      yield entry\n",
        "      entry = {}\n",
        "      continue\n",
        "    eName = l[:colonPos]\n",
        "    rest = l[colonPos+2:]\n",
        "    entry[eName] = rest\n",
        "  yield entry\n",
        " \n",
        "def getDF(path):\n",
        "  i = 0\n",
        "  df = {}\n",
        "  for d in parse(path):\n",
        "    df[i] = d\n",
        "    i += 1\n",
        "  return pd.DataFrame.from_dict(df, orient='index')\n",
        " \n"
      ],
      "execution_count": 150,
      "outputs": []
    },
    {
      "cell_type": "code",
      "metadata": {
        "id": "xIxsNlaz3IsR"
      },
      "source": [
        "df = getDF('/content/drive/MyDrive/Cell_Phones_&_Accessories.txt')\n",
        "df['review/score'] = df['review/score'].astype(float) \n",
        "df.head()\n",
        "\n",
        "df['product/price']= df['product/price'].replace('unknown', np.nan)\n",
        "df['product/price']= pd.to_numeric(df['product/price'], errors='ignore')\n",
        "df['review/usefulness list'] = df['review/helpfulness'].apply(lambda x: x.split(\"/\"))\n",
        "df['review/usefulness'] = df['review/helpfulness'].apply(lambda x: eval(x.replace('/','*2-')))\n",
        "df['review/time'] = pd.to_datetime(df['review/time'], unit='s')\n",
        "df['review_length'] = df['review/text'].apply(lambda x: len(x))"
      ],
      "execution_count": 151,
      "outputs": []
    },
    {
      "cell_type": "markdown",
      "metadata": {
        "id": "dT4Zzf2dHflx"
      },
      "source": [
        "in this analyze we suspect that if helpfulness is 6/10 it means that 6 ppl thinks thats helpfull, and 4 thinks thats useless, so we can balance it and say that 2 ppl agree to that opinion"
      ]
    },
    {
      "cell_type": "code",
      "metadata": {
        "colab": {
          "base_uri": "https://localhost:8080/",
          "height": 518
        },
        "id": "a12tI1mAnWkY",
        "outputId": "6b6d6361-54a7-41a8-e78c-5fb924d71ff8"
      },
      "source": [
        "df.head()"
      ],
      "execution_count": 152,
      "outputs": [
        {
          "output_type": "execute_result",
          "data": {
            "text/html": [
              "<div>\n",
              "<style scoped>\n",
              "    .dataframe tbody tr th:only-of-type {\n",
              "        vertical-align: middle;\n",
              "    }\n",
              "\n",
              "    .dataframe tbody tr th {\n",
              "        vertical-align: top;\n",
              "    }\n",
              "\n",
              "    .dataframe thead th {\n",
              "        text-align: right;\n",
              "    }\n",
              "</style>\n",
              "<table border=\"1\" class=\"dataframe\">\n",
              "  <thead>\n",
              "    <tr style=\"text-align: right;\">\n",
              "      <th></th>\n",
              "      <th>product/productId</th>\n",
              "      <th>product/title</th>\n",
              "      <th>product/price</th>\n",
              "      <th>review/userId</th>\n",
              "      <th>review/profileName</th>\n",
              "      <th>review/helpfulness</th>\n",
              "      <th>review/score</th>\n",
              "      <th>review/time</th>\n",
              "      <th>review/summary</th>\n",
              "      <th>review/text</th>\n",
              "      <th>review/usefulness list</th>\n",
              "      <th>review/usefulness</th>\n",
              "      <th>review_length</th>\n",
              "    </tr>\n",
              "  </thead>\n",
              "  <tbody>\n",
              "    <tr>\n",
              "      <th>0</th>\n",
              "      <td>B000JVER7W</td>\n",
              "      <td>Mobile Action MA730 Handset Manager - Bluetoot...</td>\n",
              "      <td>NaN</td>\n",
              "      <td>A1RXYH9ROBAKEZ</td>\n",
              "      <td>A. Igoe</td>\n",
              "      <td>0/0</td>\n",
              "      <td>1.0</td>\n",
              "      <td>2009-01-31</td>\n",
              "      <td>Don't buy!</td>\n",
              "      <td>First of all, the company took my money and se...</td>\n",
              "      <td>[0, 0]</td>\n",
              "      <td>0</td>\n",
              "      <td>716</td>\n",
              "    </tr>\n",
              "    <tr>\n",
              "      <th>1</th>\n",
              "      <td>B000JVER7W</td>\n",
              "      <td>Mobile Action MA730 Handset Manager - Bluetoot...</td>\n",
              "      <td>NaN</td>\n",
              "      <td>A7L6E1KSJTAJ6</td>\n",
              "      <td>Steven Martz</td>\n",
              "      <td>0/0</td>\n",
              "      <td>5.0</td>\n",
              "      <td>2007-10-04</td>\n",
              "      <td>Mobile Action Bluetooth Mobile Phone Tool Soft...</td>\n",
              "      <td>Great product- tried others and this is a ten ...</td>\n",
              "      <td>[0, 0]</td>\n",
              "      <td>0</td>\n",
              "      <td>164</td>\n",
              "    </tr>\n",
              "    <tr>\n",
              "      <th>2</th>\n",
              "      <td>B000JVER7W</td>\n",
              "      <td>Mobile Action MA730 Handset Manager - Bluetoot...</td>\n",
              "      <td>NaN</td>\n",
              "      <td>A2NOQQ7I6PU7CW</td>\n",
              "      <td>Daniel M. Johnson \"rocknbluesharp\"</td>\n",
              "      <td>0/0</td>\n",
              "      <td>4.0</td>\n",
              "      <td>2007-08-10</td>\n",
              "      <td>good</td>\n",
              "      <td>works real good....a little hard to set up...w...</td>\n",
              "      <td>[0, 0]</td>\n",
              "      <td>0</td>\n",
              "      <td>146</td>\n",
              "    </tr>\n",
              "    <tr>\n",
              "      <th>3</th>\n",
              "      <td>B000924R5I</td>\n",
              "      <td>USB Data Cable for Sony-Ericsson Z600, Z500, Z...</td>\n",
              "      <td>NaN</td>\n",
              "      <td>A29Q0CLOF0U8BN</td>\n",
              "      <td>E. Owens</td>\n",
              "      <td>4/5</td>\n",
              "      <td>4.0</td>\n",
              "      <td>2006-04-28</td>\n",
              "      <td>No instructions included...</td>\n",
              "      <td>The price was right for this cable ($11.95+$4....</td>\n",
              "      <td>[4, 5]</td>\n",
              "      <td>3</td>\n",
              "      <td>1340</td>\n",
              "    </tr>\n",
              "    <tr>\n",
              "      <th>4</th>\n",
              "      <td>B000924R5I</td>\n",
              "      <td>USB Data Cable for Sony-Ericsson Z600, Z500, Z...</td>\n",
              "      <td>NaN</td>\n",
              "      <td>ANNHJND2MHUI3</td>\n",
              "      <td>Isaac Salas \"=CRBF=gB^link\"</td>\n",
              "      <td>0/0</td>\n",
              "      <td>1.0</td>\n",
              "      <td>2007-03-12</td>\n",
              "      <td>NOT A DATA CABLE</td>\n",
              "      <td>this is NOT a DATA CABLE this is only a USB ch...</td>\n",
              "      <td>[0, 0]</td>\n",
              "      <td>0</td>\n",
              "      <td>66</td>\n",
              "    </tr>\n",
              "  </tbody>\n",
              "</table>\n",
              "</div>"
            ],
            "text/plain": [
              "  product/productId  ... review_length\n",
              "0        B000JVER7W  ...           716\n",
              "1        B000JVER7W  ...           164\n",
              "2        B000JVER7W  ...           146\n",
              "3        B000924R5I  ...          1340\n",
              "4        B000924R5I  ...            66\n",
              "\n",
              "[5 rows x 13 columns]"
            ]
          },
          "metadata": {
            "tags": []
          },
          "execution_count": 152
        }
      ]
    },
    {
      "cell_type": "code",
      "metadata": {
        "id": "bBx_jJuyxyb7"
      },
      "source": [
        "df.info()"
      ],
      "execution_count": null,
      "outputs": []
    },
    {
      "cell_type": "code",
      "metadata": {
        "colab": {
          "base_uri": "https://localhost:8080/",
          "height": 366
        },
        "id": "tgGRcfgQWd9p",
        "outputId": "70e0975c-e2e6-45ef-f4f3-feaaf8447821"
      },
      "source": [
        "sns.heatmap(df.corr())"
      ],
      "execution_count": 153,
      "outputs": [
        {
          "output_type": "execute_result",
          "data": {
            "text/plain": [
              "<matplotlib.axes._subplots.AxesSubplot at 0x7fd535248890>"
            ]
          },
          "metadata": {
            "tags": []
          },
          "execution_count": 153
        },
        {
          "output_type": "display_data",
          "data": {
            "image/png": "[encoded data removed]",
            "text/plain": [
              "<Figure size 432x288 with 2 Axes>"
            ]
          },
          "metadata": {
            "tags": [],
            "needs_background": "light"
          }
        }
      ]
    },
    {
      "cell_type": "code",
      "metadata": {
        "id": "EhnB1j_uo2R1"
      },
      "source": [
        "title = df['review/summary']\n",
        "title = title.str.lower()\n",
        "# removing special characters and numbers\n",
        "title = title.apply(lambda x : re.sub(\"[^a-z\\s]\",\"\",x) )\n",
        "stopwords = set(stopwords.words(\"english\"))\n",
        "#removing stopwords\n",
        "title = title.apply(lambda x : \" \".join(word for word in x.split() if word not in stopwords ))\n",
        "\n",
        "all_words = ' '.join([text for text in title])\n",
        "all_words = all_words.split()\n",
        "fdist = FreqDist(all_words)\n",
        "words_df = pd.DataFrame({'word':list(fdist.keys()), 'count':list(fdist.values())})"
      ],
      "execution_count": 154,
      "outputs": []
    },
    {
      "cell_type": "code",
      "metadata": {
        "colab": {
          "base_uri": "https://localhost:8080/",
          "height": 387
        },
        "id": "La2ZS4dl7tCR",
        "outputId": "f1fd2a26-e1bf-4696-efd6-c3871dbefb68"
      },
      "source": [
        "g = sns.barplot(data=words_df.nlargest(columns=\"count\", n = 30) , x= \"word\", y = \"count\")\n",
        "plt.title('word frequency')\n",
        "plt.xticks(rotation=65)"
      ],
      "execution_count": 213,
      "outputs": [
        {
          "output_type": "execute_result",
          "data": {
            "text/plain": [
              "(array([ 0,  1,  2,  3,  4,  5,  6,  7,  8,  9, 10, 11, 12, 13, 14, 15, 16,\n",
              "        17, 18, 19, 20, 21, 22, 23, 24, 25, 26, 27, 28, 29]),\n",
              " <a list of 30 Text major ticklabel objects>)"
            ]
          },
          "metadata": {
            "tags": []
          },
          "execution_count": 213
        },
        {
          "output_type": "display_data",
          "data": {
            "image/png": "[encoded data removed]",
            "text/plain": [
              "<Figure size 432x288 with 1 Axes>"
            ]
          },
          "metadata": {
            "tags": [],
            "needs_background": "light"
          }
        }
      ]
    },
    {
      "cell_type": "markdown",
      "metadata": {
        "id": "0kVtLNFByAqd"
      },
      "source": [
        "created weighted mean to increase impact of helpfull opinion.\n",
        "\n",
        "for example review with 4/6 helpfulness will have 4-(6-4)=2 2+1(it's own) = 3, so weight 3"
      ]
    },
    {
      "cell_type": "markdown",
      "metadata": {
        "id": "7d5_hSqBy1pO"
      },
      "source": [
        "There are df summed and summed2.\n",
        "\n",
        "summed is df where param review/usefulness is greater than 0\n",
        "\n",
        "in summed2 there are all entries"
      ]
    },
    {
      "cell_type": "code",
      "metadata": {
        "colab": {
          "base_uri": "https://localhost:8080/",
          "height": 402
        },
        "id": "REeoZzk9PVJ2",
        "outputId": "5070ae4e-272e-4c34-c2f0-af00b0e100a6"
      },
      "source": [
        "usefull_reviews = df.copy()\n",
        "usefull_reviews = usefull_reviews[usefull_reviews['review/usefulness']>=0]\n",
        "usefull_reviews['review/usefulness'] = usefull_reviews['review/usefulness']+1\n",
        "usefull_reviews['value'] = usefull_reviews['review/score']*usefull_reviews['review/usefulness']\n",
        "\n",
        "\n",
        "summed = pd.DataFrame(usefull_reviews['product/productId'].value_counts())\n",
        "summed.columns = ['count']\n",
        "summed['name'] = usefull_reviews.groupby('product/productId')['product/title'].unique()\n",
        "summed['name'] = summed['name'].apply(lambda x : x[0])\n",
        "summed['val_sum'] = usefull_reviews.groupby('product/productId')['value'].sum() \n",
        "summed['weight_sum'] = usefull_reviews.groupby('product/productId')['review/usefulness'].sum()\n",
        "summed['weighted_mean'] = round(summed['val_sum'] / summed['weight_sum'], 2)\n",
        "summed['mean'] = round(usefull_reviews.groupby('product/productId')['review/score'].mean(), 2)\n",
        "summed['price'] = usefull_reviews.groupby('product/productId')['product/price'].mean()\n",
        "summed.drop(['val_sum',\t'weight_sum'],inplace=True, axis = 1)\n",
        "summed"
      ],
      "execution_count": 156,
      "outputs": [
        {
          "output_type": "execute_result",
          "data": {
            "text/html": [
              "<div>\n",
              "<style scoped>\n",
              "    .dataframe tbody tr th:only-of-type {\n",
              "        vertical-align: middle;\n",
              "    }\n",
              "\n",
              "    .dataframe tbody tr th {\n",
              "        vertical-align: top;\n",
              "    }\n",
              "\n",
              "    .dataframe thead th {\n",
              "        text-align: right;\n",
              "    }\n",
              "</style>\n",
              "<table border=\"1\" class=\"dataframe\">\n",
              "  <thead>\n",
              "    <tr style=\"text-align: right;\">\n",
              "      <th></th>\n",
              "      <th>count</th>\n",
              "      <th>name</th>\n",
              "      <th>weighted_mean</th>\n",
              "      <th>mean</th>\n",
              "      <th>price</th>\n",
              "    </tr>\n",
              "  </thead>\n",
              "  <tbody>\n",
              "    <tr>\n",
              "      <th>B0009B0IX4</th>\n",
              "      <td>3247</td>\n",
              "      <td>Plantronics Voyager 510 Bluetooth Headset [Ret...</td>\n",
              "      <td>4.03</td>\n",
              "      <td>4.24</td>\n",
              "      <td>89.99</td>\n",
              "    </tr>\n",
              "    <tr>\n",
              "      <th>B0007WWAGI</th>\n",
              "      <td>885</td>\n",
              "      <td>Motorola HS850 Bluetooth Headset (Color Sent B...</td>\n",
              "      <td>3.35</td>\n",
              "      <td>3.40</td>\n",
              "      <td>29.99</td>\n",
              "    </tr>\n",
              "    <tr>\n",
              "      <th>B000GAO9T2</th>\n",
              "      <td>771</td>\n",
              "      <td>Samsung WEP200 Bluetooth Wireless Phones Heads...</td>\n",
              "      <td>4.06</td>\n",
              "      <td>3.89</td>\n",
              "      <td>NaN</td>\n",
              "    </tr>\n",
              "    <tr>\n",
              "      <th>B000RUPEOA</th>\n",
              "      <td>563</td>\n",
              "      <td>Jawbone Noise Shield Bluetooth Headset (Black)...</td>\n",
              "      <td>2.83</td>\n",
              "      <td>3.18</td>\n",
              "      <td>56.90</td>\n",
              "    </tr>\n",
              "    <tr>\n",
              "      <th>B000CQXHOS</th>\n",
              "      <td>552</td>\n",
              "      <td>Motorola H700 Bluetooth Headset [Motorola Reta...</td>\n",
              "      <td>3.83</td>\n",
              "      <td>3.70</td>\n",
              "      <td>NaN</td>\n",
              "    </tr>\n",
              "    <tr>\n",
              "      <th>...</th>\n",
              "      <td>...</td>\n",
              "      <td>...</td>\n",
              "      <td>...</td>\n",
              "      <td>...</td>\n",
              "      <td>...</td>\n",
              "    </tr>\n",
              "    <tr>\n",
              "      <th>B000MQQPWE</th>\n",
              "      <td>1</td>\n",
              "      <td>As Seen on TV Antenna Booster</td>\n",
              "      <td>1.00</td>\n",
              "      <td>1.00</td>\n",
              "      <td>0.89</td>\n",
              "    </tr>\n",
              "    <tr>\n",
              "      <th>B000N4C0Q0</th>\n",
              "      <td>1</td>\n",
              "      <td>Rim BlackBerry Pearl 8100 PDA Smart Phone Soli...</td>\n",
              "      <td>5.00</td>\n",
              "      <td>5.00</td>\n",
              "      <td>NaN</td>\n",
              "    </tr>\n",
              "    <tr>\n",
              "      <th>B000CR3X2I</th>\n",
              "      <td>1</td>\n",
              "      <td>Speck Skin Tight Case for Motorola RAZR (pink)</td>\n",
              "      <td>2.00</td>\n",
              "      <td>2.00</td>\n",
              "      <td>NaN</td>\n",
              "    </tr>\n",
              "    <tr>\n",
              "      <th>B0009HJWT4</th>\n",
              "      <td>1</td>\n",
              "      <td>T-Mobile MDA III / O2 XDA IIs / Siemens SX66 /...</td>\n",
              "      <td>4.00</td>\n",
              "      <td>4.00</td>\n",
              "      <td>NaN</td>\n",
              "    </tr>\n",
              "    <tr>\n",
              "      <th>B000J2F3B0</th>\n",
              "      <td>1</td>\n",
              "      <td>Brand New Samsung A930 Swivel Belt Clip Holster</td>\n",
              "      <td>4.00</td>\n",
              "      <td>4.00</td>\n",
              "      <td>NaN</td>\n",
              "    </tr>\n",
              "  </tbody>\n",
              "</table>\n",
              "<p>7251 rows × 5 columns</p>\n",
              "</div>"
            ],
            "text/plain": [
              "            count  ...  price\n",
              "B0009B0IX4   3247  ...  89.99\n",
              "B0007WWAGI    885  ...  29.99\n",
              "B000GAO9T2    771  ...    NaN\n",
              "B000RUPEOA    563  ...  56.90\n",
              "B000CQXHOS    552  ...    NaN\n",
              "...           ...  ...    ...\n",
              "B000MQQPWE      1  ...   0.89\n",
              "B000N4C0Q0      1  ...    NaN\n",
              "B000CR3X2I      1  ...    NaN\n",
              "B0009HJWT4      1  ...    NaN\n",
              "B000J2F3B0      1  ...    NaN\n",
              "\n",
              "[7251 rows x 5 columns]"
            ]
          },
          "metadata": {
            "tags": []
          },
          "execution_count": 156
        }
      ]
    },
    {
      "cell_type": "code",
      "metadata": {
        "colab": {
          "base_uri": "https://localhost:8080/",
          "height": 402
        },
        "id": "nG-i5X4ueMgs",
        "outputId": "a37dbab6-dd40-4b97-929f-196c96a049de"
      },
      "source": [
        "summed2 = pd.DataFrame(df['product/productId'].value_counts())\n",
        "summed2.columns = ['count']\n",
        "summed2['name'] = df.groupby('product/productId')['product/title'].unique()\n",
        "summed2['name'] = summed2['name'].apply(lambda x : x[0])\n",
        "summed2['mean'] = round(df.groupby('product/productId')['review/score'].mean(), 2)\n",
        "summed2['price'] = df.groupby('product/productId')['product/price'].mean()\n",
        "summed2"
      ],
      "execution_count": 157,
      "outputs": [
        {
          "output_type": "execute_result",
          "data": {
            "text/html": [
              "<div>\n",
              "<style scoped>\n",
              "    .dataframe tbody tr th:only-of-type {\n",
              "        vertical-align: middle;\n",
              "    }\n",
              "\n",
              "    .dataframe tbody tr th {\n",
              "        vertical-align: top;\n",
              "    }\n",
              "\n",
              "    .dataframe thead th {\n",
              "        text-align: right;\n",
              "    }\n",
              "</style>\n",
              "<table border=\"1\" class=\"dataframe\">\n",
              "  <thead>\n",
              "    <tr style=\"text-align: right;\">\n",
              "      <th></th>\n",
              "      <th>count</th>\n",
              "      <th>name</th>\n",
              "      <th>mean</th>\n",
              "      <th>price</th>\n",
              "    </tr>\n",
              "  </thead>\n",
              "  <tbody>\n",
              "    <tr>\n",
              "      <th>B0009B0IX4</th>\n",
              "      <td>3443</td>\n",
              "      <td>Plantronics Voyager 510 Bluetooth Headset [Ret...</td>\n",
              "      <td>4.16</td>\n",
              "      <td>89.99</td>\n",
              "    </tr>\n",
              "    <tr>\n",
              "      <th>B0007WWAGI</th>\n",
              "      <td>984</td>\n",
              "      <td>Motorola HS850 Bluetooth Headset (Color Sent B...</td>\n",
              "      <td>3.35</td>\n",
              "      <td>29.99</td>\n",
              "    </tr>\n",
              "    <tr>\n",
              "      <th>B000GAO9T2</th>\n",
              "      <td>848</td>\n",
              "      <td>Samsung WEP200 Bluetooth Wireless Phones Heads...</td>\n",
              "      <td>3.81</td>\n",
              "      <td>NaN</td>\n",
              "    </tr>\n",
              "    <tr>\n",
              "      <th>B000CQXHOS</th>\n",
              "      <td>628</td>\n",
              "      <td>Motorola H700 Bluetooth Headset [Motorola Reta...</td>\n",
              "      <td>3.53</td>\n",
              "      <td>NaN</td>\n",
              "    </tr>\n",
              "    <tr>\n",
              "      <th>B000RUPEOA</th>\n",
              "      <td>623</td>\n",
              "      <td>Jawbone Noise Shield Bluetooth Headset (Black)...</td>\n",
              "      <td>3.20</td>\n",
              "      <td>56.90</td>\n",
              "    </tr>\n",
              "    <tr>\n",
              "      <th>...</th>\n",
              "      <td>...</td>\n",
              "      <td>...</td>\n",
              "      <td>...</td>\n",
              "      <td>...</td>\n",
              "    </tr>\n",
              "    <tr>\n",
              "      <th>B000055ZOM</th>\n",
              "      <td>1</td>\n",
              "      <td>Nokia Limited Edition Donald Duck Faceplate fo...</td>\n",
              "      <td>5.00</td>\n",
              "      <td>NaN</td>\n",
              "    </tr>\n",
              "    <tr>\n",
              "      <th>B000EU166S</th>\n",
              "      <td>1</td>\n",
              "      <td>Cell Phone Emergency Charger</td>\n",
              "      <td>1.00</td>\n",
              "      <td>NaN</td>\n",
              "    </tr>\n",
              "    <tr>\n",
              "      <th>B000GM40OY</th>\n",
              "      <td>1</td>\n",
              "      <td>Motorola Q Monaco Flip Type Leather Case - Black</td>\n",
              "      <td>3.00</td>\n",
              "      <td>NaN</td>\n",
              "    </tr>\n",
              "    <tr>\n",
              "      <th>B0000AKAGR</th>\n",
              "      <td>1</td>\n",
              "      <td>Motorola Lithium Ion 800mA Battery High Perfor...</td>\n",
              "      <td>5.00</td>\n",
              "      <td>NaN</td>\n",
              "    </tr>\n",
              "    <tr>\n",
              "      <th>B000J2F3B0</th>\n",
              "      <td>1</td>\n",
              "      <td>Brand New Samsung A930 Swivel Belt Clip Holster</td>\n",
              "      <td>4.00</td>\n",
              "      <td>NaN</td>\n",
              "    </tr>\n",
              "  </tbody>\n",
              "</table>\n",
              "<p>7438 rows × 4 columns</p>\n",
              "</div>"
            ],
            "text/plain": [
              "            count  ...  price\n",
              "B0009B0IX4   3443  ...  89.99\n",
              "B0007WWAGI    984  ...  29.99\n",
              "B000GAO9T2    848  ...    NaN\n",
              "B000CQXHOS    628  ...    NaN\n",
              "B000RUPEOA    623  ...  56.90\n",
              "...           ...  ...    ...\n",
              "B000055ZOM      1  ...    NaN\n",
              "B000EU166S      1  ...    NaN\n",
              "B000GM40OY      1  ...    NaN\n",
              "B0000AKAGR      1  ...    NaN\n",
              "B000J2F3B0      1  ...    NaN\n",
              "\n",
              "[7438 rows x 4 columns]"
            ]
          },
          "metadata": {
            "tags": []
          },
          "execution_count": 157
        }
      ]
    },
    {
      "cell_type": "code",
      "metadata": {
        "id": "VjtY8KYk8twQ"
      },
      "source": [
        "categ = summed2['name']\n",
        "categ = categ.str.lower()\n",
        "categ = categ.apply(lambda x : re.sub(\"[^a-z\\s]\",\"\",x) )\n",
        "categ = categ.apply(lambda x : \" \".join(word for word in x.split() if word not in stopwords ))\n",
        "all_words = ' '.join([text for text in categ])\n",
        "all_words = all_words.split()\n",
        "fdist = FreqDist(all_words)\n",
        "words_df = pd.DataFrame({'word':list(fdist.keys()), 'count':list(fdist.values())})"
      ],
      "execution_count": 158,
      "outputs": []
    },
    {
      "cell_type": "markdown",
      "metadata": {
        "id": "cy-UxY2qzPXB"
      },
      "source": [
        "Here are the most frequent words in title section, after that I picked brands and create list of them and then categorize every review\n"
      ]
    },
    {
      "cell_type": "code",
      "metadata": {
        "colab": {
          "base_uri": "https://localhost:8080/",
          "height": 1000
        },
        "id": "Cl51jXg89Pk8",
        "outputId": "108ec020-0736-4751-ff56-38d52946429d"
      },
      "source": [
        "words_df.nlargest(columns=\"count\", n = 50)\n"
      ],
      "execution_count": 159,
      "outputs": [
        {
          "output_type": "execute_result",
          "data": {
            "text/html": [
              "<div>\n",
              "<style scoped>\n",
              "    .dataframe tbody tr th:only-of-type {\n",
              "        vertical-align: middle;\n",
              "    }\n",
              "\n",
              "    .dataframe tbody tr th {\n",
              "        vertical-align: top;\n",
              "    }\n",
              "\n",
              "    .dataframe thead th {\n",
              "        text-align: right;\n",
              "    }\n",
              "</style>\n",
              "<table border=\"1\" class=\"dataframe\">\n",
              "  <thead>\n",
              "    <tr style=\"text-align: right;\">\n",
              "      <th></th>\n",
              "      <th>word</th>\n",
              "      <th>count</th>\n",
              "    </tr>\n",
              "  </thead>\n",
              "  <tbody>\n",
              "    <tr>\n",
              "      <th>6</th>\n",
              "      <td>motorola</td>\n",
              "      <td>1785</td>\n",
              "    </tr>\n",
              "    <tr>\n",
              "      <th>53</th>\n",
              "      <td>v</td>\n",
              "      <td>1687</td>\n",
              "    </tr>\n",
              "    <tr>\n",
              "      <th>141</th>\n",
              "      <td>case</td>\n",
              "      <td>1655</td>\n",
              "    </tr>\n",
              "    <tr>\n",
              "      <th>109</th>\n",
              "      <td>charger</td>\n",
              "      <td>1337</td>\n",
              "    </tr>\n",
              "    <tr>\n",
              "      <th>46</th>\n",
              "      <td>phone</td>\n",
              "      <td>1251</td>\n",
              "    </tr>\n",
              "    <tr>\n",
              "      <th>18</th>\n",
              "      <td>samsung</td>\n",
              "      <td>1063</td>\n",
              "    </tr>\n",
              "    <tr>\n",
              "      <th>256</th>\n",
              "      <td>nokia</td>\n",
              "      <td>984</td>\n",
              "    </tr>\n",
              "    <tr>\n",
              "      <th>82</th>\n",
              "      <td>battery</td>\n",
              "      <td>927</td>\n",
              "    </tr>\n",
              "    <tr>\n",
              "      <th>13</th>\n",
              "      <td>black</td>\n",
              "      <td>869</td>\n",
              "    </tr>\n",
              "    <tr>\n",
              "      <th>167</th>\n",
              "      <td>vx</td>\n",
              "      <td>829</td>\n",
              "    </tr>\n",
              "    <tr>\n",
              "      <th>21</th>\n",
              "      <td>phones</td>\n",
              "      <td>758</td>\n",
              "    </tr>\n",
              "    <tr>\n",
              "      <th>3</th>\n",
              "      <td>headset</td>\n",
              "      <td>735</td>\n",
              "    </tr>\n",
              "    <tr>\n",
              "      <th>143</th>\n",
              "      <td>leather</td>\n",
              "      <td>638</td>\n",
              "    </tr>\n",
              "    <tr>\n",
              "      <th>310</th>\n",
              "      <td>clip</td>\n",
              "      <td>619</td>\n",
              "    </tr>\n",
              "    <tr>\n",
              "      <th>372</th>\n",
              "      <td>w</td>\n",
              "      <td>610</td>\n",
              "    </tr>\n",
              "    <tr>\n",
              "      <th>42</th>\n",
              "      <td>car</td>\n",
              "      <td>600</td>\n",
              "    </tr>\n",
              "    <tr>\n",
              "      <th>162</th>\n",
              "      <td>lg</td>\n",
              "      <td>577</td>\n",
              "    </tr>\n",
              "    <tr>\n",
              "      <th>88</th>\n",
              "      <td>cell</td>\n",
              "      <td>575</td>\n",
              "    </tr>\n",
              "    <tr>\n",
              "      <th>77</th>\n",
              "      <td>razr</td>\n",
              "      <td>550</td>\n",
              "    </tr>\n",
              "    <tr>\n",
              "      <th>309</th>\n",
              "      <td>belt</td>\n",
              "      <td>537</td>\n",
              "    </tr>\n",
              "    <tr>\n",
              "      <th>2</th>\n",
              "      <td>bluetooth</td>\n",
              "      <td>535</td>\n",
              "    </tr>\n",
              "    <tr>\n",
              "      <th>231</th>\n",
              "      <td>boxwave</td>\n",
              "      <td>515</td>\n",
              "    </tr>\n",
              "    <tr>\n",
              "      <th>20</th>\n",
              "      <td>wireless</td>\n",
              "      <td>486</td>\n",
              "    </tr>\n",
              "    <tr>\n",
              "      <th>45</th>\n",
              "      <td>ericsson</td>\n",
              "      <td>414</td>\n",
              "    </tr>\n",
              "    <tr>\n",
              "      <th>107</th>\n",
              "      <td>usb</td>\n",
              "      <td>404</td>\n",
              "    </tr>\n",
              "    <tr>\n",
              "      <th>71</th>\n",
              "      <td>blackberry</td>\n",
              "      <td>397</td>\n",
              "    </tr>\n",
              "    <tr>\n",
              "      <th>181</th>\n",
              "      <td>e</td>\n",
              "      <td>395</td>\n",
              "    </tr>\n",
              "    <tr>\n",
              "      <th>205</th>\n",
              "      <td>treo</td>\n",
              "      <td>395</td>\n",
              "    </tr>\n",
              "    <tr>\n",
              "      <th>161</th>\n",
              "      <td>travel</td>\n",
              "      <td>392</td>\n",
              "    </tr>\n",
              "    <tr>\n",
              "      <th>44</th>\n",
              "      <td>sony</td>\n",
              "      <td>369</td>\n",
              "    </tr>\n",
              "    <tr>\n",
              "      <th>80</th>\n",
              "      <td>oem</td>\n",
              "      <td>360</td>\n",
              "    </tr>\n",
              "    <tr>\n",
              "      <th>137</th>\n",
              "      <td>cable</td>\n",
              "      <td>357</td>\n",
              "    </tr>\n",
              "    <tr>\n",
              "      <th>409</th>\n",
              "      <td>cover</td>\n",
              "      <td>348</td>\n",
              "    </tr>\n",
              "    <tr>\n",
              "      <th>144</th>\n",
              "      <td>holster</td>\n",
              "      <td>334</td>\n",
              "    </tr>\n",
              "    <tr>\n",
              "      <th>151</th>\n",
              "      <td>c</td>\n",
              "      <td>318</td>\n",
              "    </tr>\n",
              "    <tr>\n",
              "      <th>184</th>\n",
              "      <td>swivel</td>\n",
              "      <td>314</td>\n",
              "    </tr>\n",
              "    <tr>\n",
              "      <th>226</th>\n",
              "      <td>palm</td>\n",
              "      <td>309</td>\n",
              "    </tr>\n",
              "    <tr>\n",
              "      <th>470</th>\n",
              "      <td>series</td>\n",
              "      <td>302</td>\n",
              "    </tr>\n",
              "    <tr>\n",
              "      <th>343</th>\n",
              "      <td>premium</td>\n",
              "      <td>291</td>\n",
              "    </tr>\n",
              "    <tr>\n",
              "      <th>100</th>\n",
              "      <td>unlocked</td>\n",
              "      <td>270</td>\n",
              "    </tr>\n",
              "    <tr>\n",
              "      <th>214</th>\n",
              "      <td>l</td>\n",
              "      <td>270</td>\n",
              "    </tr>\n",
              "    <tr>\n",
              "      <th>545</th>\n",
              "      <td>crystal</td>\n",
              "      <td>270</td>\n",
              "    </tr>\n",
              "    <tr>\n",
              "      <th>146</th>\n",
              "      <td>g</td>\n",
              "      <td>269</td>\n",
              "    </tr>\n",
              "    <tr>\n",
              "      <th>377</th>\n",
              "      <td>screen</td>\n",
              "      <td>262</td>\n",
              "    </tr>\n",
              "    <tr>\n",
              "      <th>47</th>\n",
              "      <td>tmobile</td>\n",
              "      <td>261</td>\n",
              "    </tr>\n",
              "    <tr>\n",
              "      <th>78</th>\n",
              "      <td>vc</td>\n",
              "      <td>261</td>\n",
              "    </tr>\n",
              "    <tr>\n",
              "      <th>160</th>\n",
              "      <td>data</td>\n",
              "      <td>260</td>\n",
              "    </tr>\n",
              "    <tr>\n",
              "      <th>56</th>\n",
              "      <td>universal</td>\n",
              "      <td>256</td>\n",
              "    </tr>\n",
              "    <tr>\n",
              "      <th>605</th>\n",
              "      <td>htc</td>\n",
              "      <td>253</td>\n",
              "    </tr>\n",
              "    <tr>\n",
              "      <th>186</th>\n",
              "      <td>wi</td>\n",
              "      <td>250</td>\n",
              "    </tr>\n",
              "  </tbody>\n",
              "</table>\n",
              "</div>"
            ],
            "text/plain": [
              "           word  count\n",
              "6      motorola   1785\n",
              "53            v   1687\n",
              "141        case   1655\n",
              "109     charger   1337\n",
              "46        phone   1251\n",
              "18      samsung   1063\n",
              "256       nokia    984\n",
              "82      battery    927\n",
              "13        black    869\n",
              "167          vx    829\n",
              "21       phones    758\n",
              "3       headset    735\n",
              "143     leather    638\n",
              "310        clip    619\n",
              "372           w    610\n",
              "42          car    600\n",
              "162          lg    577\n",
              "88         cell    575\n",
              "77         razr    550\n",
              "309        belt    537\n",
              "2     bluetooth    535\n",
              "231     boxwave    515\n",
              "20     wireless    486\n",
              "45     ericsson    414\n",
              "107         usb    404\n",
              "71   blackberry    397\n",
              "181           e    395\n",
              "205        treo    395\n",
              "161      travel    392\n",
              "44         sony    369\n",
              "80          oem    360\n",
              "137       cable    357\n",
              "409       cover    348\n",
              "144     holster    334\n",
              "151           c    318\n",
              "184      swivel    314\n",
              "226        palm    309\n",
              "470      series    302\n",
              "343     premium    291\n",
              "100    unlocked    270\n",
              "214           l    270\n",
              "545     crystal    270\n",
              "146           g    269\n",
              "377      screen    262\n",
              "47      tmobile    261\n",
              "78           vc    261\n",
              "160        data    260\n",
              "56    universal    256\n",
              "605         htc    253\n",
              "186          wi    250"
            ]
          },
          "metadata": {
            "tags": []
          },
          "execution_count": 159
        }
      ]
    },
    {
      "cell_type": "code",
      "metadata": {
        "id": "lKmlDtw8CCQ2"
      },
      "source": [
        "marks = ['htc', 'sony', 'blackberry', 'ericsson', 'lg', 'nokia', 'samsung', 'motorola']"
      ],
      "execution_count": 160,
      "outputs": []
    },
    {
      "cell_type": "markdown",
      "metadata": {
        "id": "AISy8Gk3FaJA"
      },
      "source": [
        "# categorize"
      ]
    },
    {
      "cell_type": "code",
      "metadata": {
        "id": "yrmJmj_yC_oJ"
      },
      "source": [
        "def check(z,marks):\n",
        "  '''\n",
        "  :param z: z is sentence\n",
        "  :param marks: its list of categories\n",
        "  function returns category from marks or create new - \"noname\"\n",
        "  '''\n",
        "  z = z.lower()\n",
        "  a = list(set(marks).intersection(set(z.split())))\n",
        "  if len(a)==1:\n",
        "    return a[0]\n",
        "  elif len(a)==2:\n",
        "    model = a[0]+' '+a[1]\n",
        "    if model in ['ericsson sony', 'sony ericsson', 'motorola blackberry']:\n",
        "      return model\n",
        "    else:\n",
        "      return 'noname'\n",
        "  else:\n",
        "    return 'noname'\n",
        "  #elif len(a)>2: there are some gadgets matching a lot of models, but we don't want to categorize them example is\n",
        "  '''brand new universal horizontal slim eva pouch leather case with belt \n",
        "  clip of lg lx-550, cu500, vx-8700, motorola\n",
        "   razr v3, v3c, v3m, v3i, samsung a900, t809, d807, a990,\n",
        "    t629, sch-u740, sanyo 6600'''\n",
        "\n",
        "\n",
        "summed2['category'] = summed2['name'].apply(lambda x : check(x, marks))"
      ],
      "execution_count": 161,
      "outputs": []
    },
    {
      "cell_type": "code",
      "metadata": {
        "colab": {
          "base_uri": "https://localhost:8080/",
          "height": 341
        },
        "id": "7YclPgvWTjn4",
        "outputId": "3c2b018c-86c7-44da-bedf-1f53eb85c301"
      },
      "source": [
        "df['category'] = df['product/title'].apply(lambda x : check(x, marks))\n",
        "plt.plot(df.groupby('category')['review/score'].mean())\n",
        "\n",
        "plt.xticks(rotation=80)"
      ],
      "execution_count": 162,
      "outputs": [
        {
          "output_type": "execute_result",
          "data": {
            "text/plain": [
              "([0, 1, 2, 3, 4, 5, 6, 7, 8, 9], <a list of 10 Text major ticklabel objects>)"
            ]
          },
          "metadata": {
            "tags": []
          },
          "execution_count": 162
        },
        {
          "output_type": "display_data",
          "data": {
            "image/png": "[encoded data removed]",
            "text/plain": [
              "<Figure size 432x288 with 1 Axes>"
            ]
          },
          "metadata": {
            "tags": [],
            "needs_background": "light"
          }
        }
      ]
    },
    {
      "cell_type": "code",
      "metadata": {
        "colab": {
          "base_uri": "https://localhost:8080/",
          "height": 282
        },
        "id": "R25HE6YDnBoL",
        "outputId": "db0ded0c-946d-4f89-ccf9-b0886724c718"
      },
      "source": [
        "\n",
        "plt.plot(df.groupby('review/time').size())"
      ],
      "execution_count": 163,
      "outputs": [
        {
          "output_type": "execute_result",
          "data": {
            "text/plain": [
              "[<matplotlib.lines.Line2D at 0x7fd52f858490>]"
            ]
          },
          "metadata": {
            "tags": []
          },
          "execution_count": 163
        },
        {
          "output_type": "display_data",
          "data": {
            "image/png": "[encoded data removed]",
            "text/plain": [
              "<Figure size 432x288 with 1 Axes>"
            ]
          },
          "metadata": {
            "tags": [],
            "needs_background": "light"
          }
        }
      ]
    },
    {
      "cell_type": "markdown",
      "metadata": {
        "id": "MBc7htK-saHq"
      },
      "source": [
        "we can see that in 2007-2009 were bigger interest\n"
      ]
    },
    {
      "cell_type": "code",
      "metadata": {
        "colab": {
          "base_uri": "https://localhost:8080/",
          "height": 282
        },
        "id": "EXcCTD05n6E1",
        "outputId": "e25f74bb-828e-4c7a-fb0c-6c4688418759"
      },
      "source": [
        "plt.scatter(df['review_length'][df['review/usefulness']>30],df['review/usefulness'][df['review/usefulness']>30],s=1)\n"
      ],
      "execution_count": 164,
      "outputs": [
        {
          "output_type": "execute_result",
          "data": {
            "text/plain": [
              "<matplotlib.collections.PathCollection at 0x7fd52f8aaed0>"
            ]
          },
          "metadata": {
            "tags": []
          },
          "execution_count": 164
        },
        {
          "output_type": "display_data",
          "data": {
            "image/png": "[encoded data removed]",
            "text/plain": [
              "<Figure size 432x288 with 1 Axes>"
            ]
          },
          "metadata": {
            "tags": [],
            "needs_background": "light"
          }
        }
      ]
    },
    {
      "cell_type": "markdown",
      "metadata": {
        "id": "6g2s08owsSWH"
      },
      "source": [
        "The most valuable opinions are between 100-4000 signs"
      ]
    },
    {
      "cell_type": "code",
      "metadata": {
        "colab": {
          "base_uri": "https://localhost:8080/",
          "height": 282
        },
        "id": "yM4t1pKorHrq",
        "outputId": "8f3c0296-b9f8-4a77-8c8d-ba1d40604a1c"
      },
      "source": [
        "plt.scatter(df['review/score'],df['review_length'], s=2)"
      ],
      "execution_count": 206,
      "outputs": [
        {
          "output_type": "execute_result",
          "data": {
            "text/plain": [
              "<matplotlib.collections.PathCollection at 0x7fd5318ee8d0>"
            ]
          },
          "metadata": {
            "tags": []
          },
          "execution_count": 206
        },
        {
          "output_type": "display_data",
          "data": {
            "image/png": "[encoded data removed]",
            "text/plain": [
              "<Figure size 432x288 with 1 Axes>"
            ]
          },
          "metadata": {
            "tags": [],
            "needs_background": "light"
          }
        }
      ]
    },
    {
      "cell_type": "code",
      "metadata": {
        "colab": {
          "base_uri": "https://localhost:8080/",
          "height": 282
        },
        "id": "UoC--NiYYm3u",
        "outputId": "97160a7d-9fd5-4d14-e9e7-427f2a4576d3"
      },
      "source": [
        "summed[:100].plot( y =['weighted_mean','mean'])"
      ],
      "execution_count": 166,
      "outputs": [
        {
          "output_type": "execute_result",
          "data": {
            "text/plain": [
              "<matplotlib.axes._subplots.AxesSubplot at 0x7fd52f8cbd50>"
            ]
          },
          "metadata": {
            "tags": []
          },
          "execution_count": 166
        },
        {
          "output_type": "display_data",
          "data": {
            "image/png": "[encoded data removed]",
            "text/plain": [
              "<Figure size 432x288 with 1 Axes>"
            ]
          },
          "metadata": {
            "tags": [],
            "needs_background": "light"
          }
        }
      ]
    },
    {
      "cell_type": "code",
      "metadata": {
        "colab": {
          "base_uri": "https://localhost:8080/",
          "height": 402
        },
        "id": "T133VMCtsRbV",
        "outputId": "f9c5ace8-bc6a-43c5-af08-5bde1b9883b9"
      },
      "source": [
        "text_df = pd.DataFrame([])\n",
        "text_df[\"review\"] = df['review/text']\n",
        "text_df[\"summary\"] = df['review/summary']\n",
        "text_df[\"is_neg\"] = df['review/score'].apply(lambda x: 1 if x < 3 else 0) # we classify 1,2 as negative, and 3,4,5 as positive. we could also drop 3 and makes positive- 4,5\n",
        "text_df['opinion_connected'] = text_df[\"review\"]+' ' + text_df[\"summary\"]\n",
        "text_df"
      ],
      "execution_count": 167,
      "outputs": [
        {
          "output_type": "execute_result",
          "data": {
            "text/html": [
              "<div>\n",
              "<style scoped>\n",
              "    .dataframe tbody tr th:only-of-type {\n",
              "        vertical-align: middle;\n",
              "    }\n",
              "\n",
              "    .dataframe tbody tr th {\n",
              "        vertical-align: top;\n",
              "    }\n",
              "\n",
              "    .dataframe thead th {\n",
              "        text-align: right;\n",
              "    }\n",
              "</style>\n",
              "<table border=\"1\" class=\"dataframe\">\n",
              "  <thead>\n",
              "    <tr style=\"text-align: right;\">\n",
              "      <th></th>\n",
              "      <th>review</th>\n",
              "      <th>summary</th>\n",
              "      <th>is_neg</th>\n",
              "      <th>opinion_connected</th>\n",
              "    </tr>\n",
              "  </thead>\n",
              "  <tbody>\n",
              "    <tr>\n",
              "      <th>0</th>\n",
              "      <td>First of all, the company took my money and se...</td>\n",
              "      <td>Don't buy!</td>\n",
              "      <td>1</td>\n",
              "      <td>First of all, the company took my money and se...</td>\n",
              "    </tr>\n",
              "    <tr>\n",
              "      <th>1</th>\n",
              "      <td>Great product- tried others and this is a ten ...</td>\n",
              "      <td>Mobile Action Bluetooth Mobile Phone Tool Soft...</td>\n",
              "      <td>0</td>\n",
              "      <td>Great product- tried others and this is a ten ...</td>\n",
              "    </tr>\n",
              "    <tr>\n",
              "      <th>2</th>\n",
              "      <td>works real good....a little hard to set up...w...</td>\n",
              "      <td>good</td>\n",
              "      <td>0</td>\n",
              "      <td>works real good....a little hard to set up...w...</td>\n",
              "    </tr>\n",
              "    <tr>\n",
              "      <th>3</th>\n",
              "      <td>The price was right for this cable ($11.95+$4....</td>\n",
              "      <td>No instructions included...</td>\n",
              "      <td>0</td>\n",
              "      <td>The price was right for this cable ($11.95+$4....</td>\n",
              "    </tr>\n",
              "    <tr>\n",
              "      <th>4</th>\n",
              "      <td>this is NOT a DATA CABLE this is only a USB ch...</td>\n",
              "      <td>NOT A DATA CABLE</td>\n",
              "      <td>1</td>\n",
              "      <td>this is NOT a DATA CABLE this is only a USB ch...</td>\n",
              "    </tr>\n",
              "    <tr>\n",
              "      <th>...</th>\n",
              "      <td>...</td>\n",
              "      <td>...</td>\n",
              "      <td>...</td>\n",
              "      <td>...</td>\n",
              "    </tr>\n",
              "    <tr>\n",
              "      <th>78925</th>\n",
              "      <td>I got this headset because I like the SonyEric...</td>\n",
              "      <td>great sound quality, good battery life, averag...</td>\n",
              "      <td>0</td>\n",
              "      <td>I got this headset because I like the SonyEric...</td>\n",
              "    </tr>\n",
              "    <tr>\n",
              "      <th>78926</th>\n",
              "      <td>I have owned this product for over two weeks n...</td>\n",
              "      <td>Excellent quality at an affordable price</td>\n",
              "      <td>0</td>\n",
              "      <td>I have owned this product for over two weeks n...</td>\n",
              "    </tr>\n",
              "    <tr>\n",
              "      <th>78927</th>\n",
              "      <td>I bought this item for my husband. He really l...</td>\n",
              "      <td>Sony Ericsson Bluetooth HBH-PV700 Headset - DP...</td>\n",
              "      <td>0</td>\n",
              "      <td>I bought this item for my husband. He really l...</td>\n",
              "    </tr>\n",
              "    <tr>\n",
              "      <th>78928</th>\n",
              "      <td>I bought this item after I shopped in the loca...</td>\n",
              "      <td>works great, competitively priced</td>\n",
              "      <td>0</td>\n",
              "      <td>I bought this item after I shopped in the loca...</td>\n",
              "    </tr>\n",
              "    <tr>\n",
              "      <th>78929</th>\n",
              "      <td>I have tried a number of bluetooth earpieces, ...</td>\n",
              "      <td>Sony Ericsson Bluetooth HBH-PV700 Headset</td>\n",
              "      <td>0</td>\n",
              "      <td>I have tried a number of bluetooth earpieces, ...</td>\n",
              "    </tr>\n",
              "  </tbody>\n",
              "</table>\n",
              "<p>78930 rows × 4 columns</p>\n",
              "</div>"
            ],
            "text/plain": [
              "                                                  review  ...                                  opinion_connected\n",
              "0      First of all, the company took my money and se...  ...  First of all, the company took my money and se...\n",
              "1      Great product- tried others and this is a ten ...  ...  Great product- tried others and this is a ten ...\n",
              "2      works real good....a little hard to set up...w...  ...  works real good....a little hard to set up...w...\n",
              "3      The price was right for this cable ($11.95+$4....  ...  The price was right for this cable ($11.95+$4....\n",
              "4      this is NOT a DATA CABLE this is only a USB ch...  ...  this is NOT a DATA CABLE this is only a USB ch...\n",
              "...                                                  ...  ...                                                ...\n",
              "78925  I got this headset because I like the SonyEric...  ...  I got this headset because I like the SonyEric...\n",
              "78926  I have owned this product for over two weeks n...  ...  I have owned this product for over two weeks n...\n",
              "78927  I bought this item for my husband. He really l...  ...  I bought this item for my husband. He really l...\n",
              "78928  I bought this item after I shopped in the loca...  ...  I bought this item after I shopped in the loca...\n",
              "78929  I have tried a number of bluetooth earpieces, ...  ...  I have tried a number of bluetooth earpieces, ...\n",
              "\n",
              "[78930 rows x 4 columns]"
            ]
          },
          "metadata": {
            "tags": []
          },
          "execution_count": 167
        }
      ]
    },
    {
      "cell_type": "code",
      "metadata": {
        "colab": {
          "base_uri": "https://localhost:8080/",
          "height": 282
        },
        "id": "XDTzLI6r_4Wo",
        "outputId": "ec50c9cd-392e-4cb6-c93f-093840c0ae85"
      },
      "source": [
        "a=summed.copy() #remove one bigger entry with count equal around 3500\n",
        "a=a[a['count']<1500]\n",
        "plt.scatter(a['count'], a['mean'],s=3)"
      ],
      "execution_count": 210,
      "outputs": [
        {
          "output_type": "execute_result",
          "data": {
            "text/plain": [
              "<matplotlib.collections.PathCollection at 0x7fd531823e10>"
            ]
          },
          "metadata": {
            "tags": []
          },
          "execution_count": 210
        },
        {
          "output_type": "display_data",
          "data": {
            "image/png": "[encoded data removed]",
            "text/plain": [
              "<Figure size 432x288 with 1 Axes>"
            ]
          },
          "metadata": {
            "tags": [],
            "needs_background": "light"
          }
        }
      ]
    },
    {
      "cell_type": "code",
      "metadata": {
        "colab": {
          "base_uri": "https://localhost:8080/",
          "height": 282
        },
        "id": "vhyhsPbjTM13",
        "outputId": "6a22eaa7-d14f-42c6-90c2-fe1b1e694d30"
      },
      "source": [
        "plt.hist([summed['mean'],summed['weighted_mean']], alpha = 0.4)\n",
        "plt.legend(['mean','weighted_mean'])"
      ],
      "execution_count": 169,
      "outputs": [
        {
          "output_type": "execute_result",
          "data": {
            "text/plain": [
              "<matplotlib.legend.Legend at 0x7fd52f925310>"
            ]
          },
          "metadata": {
            "tags": []
          },
          "execution_count": 169
        },
        {
          "output_type": "display_data",
          "data": {
            "image/png": "[encoded data removed]",
            "text/plain": [
              "<Figure size 432x288 with 1 Axes>"
            ]
          },
          "metadata": {
            "tags": [],
            "needs_background": "light"
          }
        }
      ]
    },
    {
      "cell_type": "code",
      "metadata": {
        "colab": {
          "base_uri": "https://localhost:8080/",
          "height": 282
        },
        "id": "fZ60YPJuIHPR",
        "outputId": "594d869c-9d36-4e5d-93a5-7dfbffba3f07"
      },
      "source": [
        "plt.scatter(summed['price'], summed['mean'])\n",
        "plt.scatter(summed2['price'], summed2['mean'],alpha=0.4)"
      ],
      "execution_count": 170,
      "outputs": [
        {
          "output_type": "execute_result",
          "data": {
            "text/plain": [
              "<matplotlib.collections.PathCollection at 0x7fd52fa006d0>"
            ]
          },
          "metadata": {
            "tags": []
          },
          "execution_count": 170
        },
        {
          "output_type": "display_data",
          "data": {
            "image/png": "[encoded data removed]",
            "text/plain": [
              "<Figure size 432x288 with 1 Axes>"
            ]
          },
          "metadata": {
            "tags": [],
            "needs_background": "light"
          }
        }
      ]
    },
    {
      "cell_type": "code",
      "metadata": {
        "colab": {
          "base_uri": "https://localhost:8080/",
          "height": 282
        },
        "id": "jRD_yw3eTvJL",
        "outputId": "c0fee255-b113-4c9e-cf7a-e170001245d8"
      },
      "source": [
        "plt.scatter(df['review/score'],df['review/usefulness'])"
      ],
      "execution_count": 171,
      "outputs": [
        {
          "output_type": "execute_result",
          "data": {
            "text/plain": [
              "<matplotlib.collections.PathCollection at 0x7fd52f9fb810>"
            ]
          },
          "metadata": {
            "tags": []
          },
          "execution_count": 171
        },
        {
          "output_type": "display_data",
          "data": {
            "image/png": "[encoded data removed]",
            "text/plain": [
              "<Figure size 432x288 with 1 Axes>"
            ]
          },
          "metadata": {
            "tags": [],
            "needs_background": "light"
          }
        }
      ]
    },
    {
      "cell_type": "markdown",
      "metadata": {
        "id": "woDEt62ap1E8"
      },
      "source": [
        "# ML analyze"
      ]
    },
    {
      "cell_type": "code",
      "metadata": {
        "colab": {
          "base_uri": "https://localhost:8080/"
        },
        "id": "jjcGorz2tjYM",
        "outputId": "6c4eacfe-dbe3-4702-c4d3-436cebd35336"
      },
      "source": [
        "text_df[\"is_neg\"].mean()"
      ],
      "execution_count": 172,
      "outputs": [
        {
          "output_type": "execute_result",
          "data": {
            "text/plain": [
              "0.2817813252248828"
            ]
          },
          "metadata": {
            "tags": []
          },
          "execution_count": 172
        }
      ]
    },
    {
      "cell_type": "markdown",
      "metadata": {
        "id": "-fvIqVmAt4qR"
      },
      "source": [
        "## Count Vectorizer"
      ]
    },
    {
      "cell_type": "code",
      "metadata": {
        "id": "lE9dAGoMpmAJ"
      },
      "source": [
        "X = text_df[\"opinion_connected\"] #reviews\n",
        "y = text_df[\"is_neg\"] #negative\n",
        "\n",
        "\n",
        "X_train,X_test,y_train,y_test = train_test_split(X, y, test_size=0.25, random_state=0)\n",
        "\n",
        "\n",
        "vect = CountVectorizer()\n",
        "vect.fit(X_train)\n",
        "X_train_vectorized = vect.transform(X_train)\n",
        "X_test_vectorized=vect.transform(X_test)"
      ],
      "execution_count": 173,
      "outputs": []
    },
    {
      "cell_type": "markdown",
      "metadata": {
        "id": "dsZlI5K4upWK"
      },
      "source": [
        "### CV LogReg"
      ]
    },
    {
      "cell_type": "code",
      "metadata": {
        "colab": {
          "base_uri": "https://localhost:8080/"
        },
        "id": "wE4njTgduM-v",
        "outputId": "347b05d5-ce5b-46c3-da5f-ec3cd6372bd5"
      },
      "source": [
        "LogReg = LogisticRegression(max_iter=10000)\n",
        "LogReg.fit(X_train_vectorized,y_train)\n",
        "\n",
        "y_pred = LogReg.predict(X_test_vectorized)\n",
        "print(\"Accuracy on df test data is : %0.2f\" %(accuracy_score(y_test, y_pred)*100))\n",
        "print(confusion_matrix(y_test, y_pred))"
      ],
      "execution_count": 174,
      "outputs": [
        {
          "output_type": "stream",
          "text": [
            "Accuracy on df test data is : 88.21\n",
            "[[13150  1005]\n",
            " [ 1321  4257]]\n"
          ],
          "name": "stdout"
        }
      ]
    },
    {
      "cell_type": "markdown",
      "metadata": {
        "id": "NRpKNoYq1tli"
      },
      "source": [
        "Accuracy on df test data is : 88.20\n",
        "[[13149  1006]\n",
        " [ 1322  4256]]"
      ]
    },
    {
      "cell_type": "markdown",
      "metadata": {
        "id": "2No7vNjgamDW"
      },
      "source": [
        "Improve CV LogReg using GridSearch"
      ]
    },
    {
      "cell_type": "code",
      "metadata": {
        "id": "HHpiAnLb1vtK"
      },
      "source": [
        "# LogReg = LogisticRegression(max_iter=10000)\n",
        "# parameters = dict(C = [0.0001, 0.001, 0.01,0.1, 1],)\n",
        "\n",
        "# clf=GridSearchCV(LogReg2, parameters)\n",
        "# clf.fit(X_train_vectorized,y_train)\n",
        "# print(clf.best_estimator_)\n"
      ],
      "execution_count": null,
      "outputs": []
    },
    {
      "cell_type": "markdown",
      "metadata": {
        "id": "MzckFsSbN_zP"
      },
      "source": [
        "LogisticRegression(C=0.1, class_weight=None, dual=False, fit_intercept=True,\n",
        "                   intercept_scaling=1, l1_ratio=None, max_iter=10000,\n",
        "                   multi_class='auto', n_jobs=None, penalty='l2',\n",
        "                   random_state=None, solver='saga', tol=0.0001, verbose=0,\n",
        "                   warm_start=False)"
      ]
    },
    {
      "cell_type": "code",
      "metadata": {
        "colab": {
          "base_uri": "https://localhost:8080/"
        },
        "id": "dREpuxabpOs9",
        "outputId": "d0fc3c2a-f1ca-489c-d2a1-d9c98364c220"
      },
      "source": [
        "LogReg2 = LogisticRegression(C=1, class_weight=None, dual=False, fit_intercept=True,\n",
        "                   intercept_scaling=1, l1_ratio=None, max_iter=10000,\n",
        "                   multi_class='auto', n_jobs=None, penalty='l2',\n",
        "                   random_state=None, solver='saga', tol=0.0001, verbose=0,\n",
        "                   warm_start=False)\n",
        "\n",
        "LogReg2.fit(X_train_vectorized,y_train)\n",
        "\n",
        "y_pred = LogReg2.predict(X_test_vectorized)\n",
        "print(\"Accuracy on df test data is : %0.2f\" %(accuracy_score(y_test, y_pred)*100))\n",
        "print(confusion_matrix(y_test, y_pred))"
      ],
      "execution_count": 175,
      "outputs": [
        {
          "output_type": "stream",
          "text": [
            "Accuracy on df test data is : 88.47\n",
            "[[13207   948]\n",
            " [ 1328  4250]]\n"
          ],
          "name": "stdout"
        }
      ]
    },
    {
      "cell_type": "code",
      "metadata": {
        "colab": {
          "base_uri": "https://localhost:8080/"
        },
        "id": "CDD_WYWFrl3v",
        "outputId": "249ed4dc-9349-4151-b62e-99fa6023d59c"
      },
      "source": [
        "LogReg2 = LogisticRegression(C=0.1, class_weight=None, dual=False, fit_intercept=True,\n",
        "                   intercept_scaling=1, l1_ratio=None, max_iter=10000,\n",
        "                   multi_class='auto', n_jobs=None, penalty='l2',\n",
        "                   random_state=None, solver='saga', tol=0.0001, verbose=0,\n",
        "                   warm_start=False)\n",
        "\n",
        "LogReg2.fit(X_train_vectorized,y_train)\n",
        "\n",
        "y_pred = LogReg2.predict(X_test_vectorized)\n",
        "print(\"Accuracy on df test data is : %0.2f\" %(accuracy_score(y_test, y_pred)*100))\n",
        "print(confusion_matrix(y_test, y_pred))"
      ],
      "execution_count": 176,
      "outputs": [
        {
          "output_type": "stream",
          "text": [
            "Accuracy on df test data is : 88.61\n",
            "[[13255   900]\n",
            " [ 1347  4231]]\n"
          ],
          "name": "stdout"
        }
      ]
    },
    {
      "cell_type": "code",
      "metadata": {
        "colab": {
          "base_uri": "https://localhost:8080/"
        },
        "id": "wOhU4VJMuwB9",
        "outputId": "bfeba818-b3f4-4100-ffc6-ceb838338cf2"
      },
      "source": [
        "\n",
        "print('AUC: ',roc_auc_score(y_test,y_pred))"
      ],
      "execution_count": 177,
      "outputs": [
        {
          "output_type": "stream",
          "text": [
            "AUC:  0.8474669118815795\n"
          ],
          "name": "stdout"
        }
      ]
    },
    {
      "cell_type": "markdown",
      "metadata": {
        "id": "HZG2iLtXazY4"
      },
      "source": [
        "### positive and negative coeffiecients"
      ]
    },
    {
      "cell_type": "code",
      "metadata": {
        "colab": {
          "base_uri": "https://localhost:8080/"
        },
        "id": "Nvg7UQIzwQ6t",
        "outputId": "9598d47d-39f9-4b16-9baa-1a839514948f"
      },
      "source": [
        "feature_names = np.array(vect.get_feature_names())\n",
        "\n",
        "#sort the coffecient from the LogReg.\n",
        "sorted_coef_index = LogReg.coef_[0].argsort()\n",
        "\n",
        "print('Smallest Coefficient(Negative reviews): \\n{}\\n'.format(feature_names[sorted_coef_index[-20:]]))\n",
        "print('Largest Coeffiecient(Positive reviews): \\n{}'.format(feature_names[sorted_coef_index[:20]]))"
      ],
      "execution_count": 178,
      "outputs": [
        {
          "output_type": "stream",
          "text": [
            "Smallest Coefficient(Negative reviews): \n",
            "['ordinary' 'hill' 'useless' 'rubbish' 'horrible' 'somesome' 'hopes'\n",
            " 'junk' 'defeats' 'worst' 'v60g' 'profit' 'paperweight' 'worthless'\n",
            " 'unreliable' 'unacceptable' 'unusable' 'waste' 'dissapointment' 'garbage']\n",
            "\n",
            "Largest Coeffiecient(Positive reviews): \n",
            "['revision' 'solved' 'beats' 'awesome' 'dln' 'served' 'keeper' 'iam'\n",
            " 'messenger' 'loves' 'surprisingly' 'checkout' 'excellent' 'drawback'\n",
            " 'excelent' 'outstanding' 'asia' 'amazing' 'suits' 'elegant']\n"
          ],
          "name": "stdout"
        }
      ]
    },
    {
      "cell_type": "markdown",
      "metadata": {
        "id": "gyWrB-RxUzFy"
      },
      "source": [
        "### CV Random Forest"
      ]
    },
    {
      "cell_type": "code",
      "metadata": {
        "colab": {
          "base_uri": "https://localhost:8080/"
        },
        "id": "OezRHVjMU2Zy",
        "outputId": "4cd4edb1-8f93-4533-f34e-58624bec7523"
      },
      "source": [
        "model = RandomForestClassifier()\n",
        "model.fit(X_train_vectorized, y_train) \n",
        "\n",
        "y_pred = model.predict(X_test_vectorized)\n",
        "print(\"Accuracy on df test data is : %0.2f\" %(accuracy_score(y_test, y_pred)*100))\n",
        "print(confusion_matrix(y_test, y_pred))"
      ],
      "execution_count": 180,
      "outputs": [
        {
          "output_type": "stream",
          "text": [
            "Accuracy on df test data is : 82.03\n",
            "[[13985   170]\n",
            " [ 3377  2201]]\n"
          ],
          "name": "stdout"
        }
      ]
    },
    {
      "cell_type": "markdown",
      "metadata": {
        "id": "w0kYVxIF2xRo"
      },
      "source": [
        "Accuracy on df test data is : 82.08\n",
        "[[13986   169]\n",
        " [ 3367  2211]]"
      ]
    },
    {
      "cell_type": "markdown",
      "metadata": {
        "id": "LATt5wNrjfg6"
      },
      "source": [
        "### CV KNN"
      ]
    },
    {
      "cell_type": "code",
      "metadata": {
        "colab": {
          "base_uri": "https://localhost:8080/"
        },
        "id": "5T2iGf_vy4ul",
        "outputId": "8aea017f-c4f7-45e4-fd89-7fb8bde06c9d"
      },
      "source": [
        "model = KNeighborsClassifier()\n",
        "model.fit(X_train_vectorized, y_train) \n",
        "\n",
        "y_pred = model.predict(X_test_vectorized)\n",
        "print(\"Accuracy on df test data is : %0.2f\" %(accuracy_score(y_test, y_pred)*100))\n",
        "print(confusion_matrix(y_test, y_pred))"
      ],
      "execution_count": 181,
      "outputs": [
        {
          "output_type": "stream",
          "text": [
            "Accuracy on df test data is : 76.11\n",
            "[[13422   733]\n",
            " [ 3981  1597]]\n"
          ],
          "name": "stdout"
        }
      ]
    },
    {
      "cell_type": "code",
      "metadata": {
        "id": "S5d4f17balSg"
      },
      "source": [
        ""
      ],
      "execution_count": 181,
      "outputs": []
    },
    {
      "cell_type": "markdown",
      "metadata": {
        "id": "AZ15ODpVyc5J"
      },
      "source": [
        "## NLP with Spacy\n"
      ]
    },
    {
      "cell_type": "markdown",
      "metadata": {
        "id": "JPXKJwCGZs_G"
      },
      "source": [
        "In this case spacy is not efficient. Long time processing and lower score than cv"
      ]
    },
    {
      "cell_type": "code",
      "metadata": {
        "id": "4ReFuBa4yfyD"
      },
      "source": [
        "nlp = spacy.load('en_core_web_lg')"
      ],
      "execution_count": 192,
      "outputs": []
    },
    {
      "cell_type": "code",
      "metadata": {
        "colab": {
          "base_uri": "https://localhost:8080/"
        },
        "id": "oQBX5fboyhyF",
        "outputId": "0749c430-0446-4409-c898-c6792cc72487"
      },
      "source": [
        "opinions = text_df[\"opinion_connected\"]\n",
        "opinions.head().tolist()"
      ],
      "execution_count": 193,
      "outputs": [
        {
          "output_type": "execute_result",
          "data": {
            "text/plain": [
              "[\"First of all, the company took my money and sent me an email telling me the product was shipped. A week and a half later I received another email telling me that they are sorry, but they don't actually have any of these items, and if I received an email telling me it has shipped, it was a mistake.When I finally got my money back, I went through another company to buy the product and it won't work with my phone, even though it depicts that it will. I have sent numerous emails to the company - I can't actually find a phone number on their website - and I still have not gotten any kind of response. What kind of customer service is that? No one will help me with this problem. My advice - don't waste your money! Don't buy!\",\n",
              " \"Great product- tried others and this is a ten compared to them. Real easy to use and sync's easily. Definite recommended buy to transfer data to and from your Cell. Mobile Action Bluetooth Mobile Phone Tool Software MA-730\",\n",
              " 'works real good....a little hard to set up...web part doesnt work thru handset manager as advertised.....have to go into networking and turn it on good',\n",
              " 'The price was right for this cable ($11.95+$4.94 S&H;) compared with Sony Ericssons offering ($25+). There are a few different prices on Amazon through the same company, MyNetDeals.com, so make sure you get the $11.95 one.So I popped the CD in, followed the 2 line .txt instruction file on the disk and...nothing happened?!? Well, my phone started to charge. If you have a similar problem you may try what I did.I had previously installed a variety of the S.E. downloadable software on my computer. It took me about 15 minutes of fumbling around, but I made my way to the Phone Monitor Options by opening the catcheventatl.exe in C:\\\\Program Files\\\\Sony Ericsson\\\\Mobile\\\\Mobile Phone Monitor. From the pop-up window you have to hit the Options button. There may be a better way to get here, but this is how I did it. Go to the COM Ports tab and enable all of the COM ports. It told me it wouldnt enable COM4 because of an IR conflict, but within a few seconds, my phone was recognized, presumably on one of the remaining ports. I may not have had this issue if I installed the software fresh with the cable, but I had previously been using the IR feature to transfer data. The cable is faster than IR, but not tremendously. The big benefit is you dont have to worry about losing line of site and messing up your download.Hope you have success. No instructions included...',\n",
              " 'this is NOT a DATA CABLE this is only a USB charger dont buy this. NOT A DATA CABLE']"
            ]
          },
          "metadata": {
            "tags": []
          },
          "execution_count": 193
        }
      ]
    },
    {
      "cell_type": "markdown",
      "metadata": {
        "id": "jf8VD6MnzcGE"
      },
      "source": [
        "Clean Data"
      ]
    },
    {
      "cell_type": "code",
      "metadata": {
        "id": "v-Q5UKRzzZQ0"
      },
      "source": [
        "opinions = opinions.str.lower()\n",
        "# removing special characters and numbers\n",
        "opinions = opinions.apply(lambda x : re.sub(\"[^a-z\\s]\",\"\",x) )\n",
        "#removing stopwords\n",
        "opinions = opinions.apply(lambda x : \" \".join(word for word in x.split() if word not in stopwords ))"
      ],
      "execution_count": 195,
      "outputs": []
    },
    {
      "cell_type": "code",
      "metadata": {
        "id": "EOBHE1h70Hny"
      },
      "source": [
        "doc_df = nlp.pipe(opinions)\n",
        "opinions_vector_df = np.array([opinion.vector for opinion in doc_df])"
      ],
      "execution_count": 196,
      "outputs": []
    },
    {
      "cell_type": "code",
      "metadata": {
        "colab": {
          "base_uri": "https://localhost:8080/"
        },
        "id": "1sUgQvcb30jy",
        "outputId": "2cb66c74-bf79-43b2-d005-9e254146ac14"
      },
      "source": [
        "X = opinions_vector_df\n",
        "y = text_df[\"is_neg\"]\n",
        "X_train,X_test, y_train, y_test = train_test_split(X, y, test_size=0.25, random_state=0)\n",
        "LogReg.fit(X_train, y_train)\n",
        "y_pred = LogReg.predict(X_test)\n",
        "print(\"Accuracy on df test data is : %0.2f\" %(accuracy_score(y_test, y_pred)*100))\n",
        "y_train_pred = LogReg.predict(X_train)\n",
        "print(\"Accuracy on df train data is : %0.2f\" %(accuracy_score(y_train, y_train_pred)*100))\n",
        "print(confusion_matrix(y_test, y_pred))"
      ],
      "execution_count": 197,
      "outputs": [
        {
          "output_type": "stream",
          "text": [
            "Accuracy on df test data is : 85.38\n",
            "Accuracy on df train data is : 85.44\n",
            "[[13159   996]\n",
            " [ 1888  3690]]\n"
          ],
          "name": "stdout"
        }
      ]
    },
    {
      "cell_type": "code",
      "metadata": {
        "colab": {
          "base_uri": "https://localhost:8080/"
        },
        "id": "Mb050HcB4TIl",
        "outputId": "ea6a6d9e-36b6-4c3e-bd54-a1c357e09d42"
      },
      "source": [
        "print('AUC: ',roc_auc_score(y_test, y_pred))"
      ],
      "execution_count": 198,
      "outputs": [
        {
          "output_type": "stream",
          "text": [
            "AUC:  0.795581800075206\n"
          ],
          "name": "stdout"
        }
      ]
    },
    {
      "cell_type": "markdown",
      "metadata": {
        "id": "CA2RCcDP2Tb4"
      },
      "source": [
        "### SVM.svc"
      ]
    },
    {
      "cell_type": "code",
      "metadata": {
        "colab": {
          "base_uri": "https://localhost:8080/"
        },
        "id": "-XBv_Z5C2VaL",
        "outputId": "d5f41932-df4d-4fed-8a71-2b1180ee0a79"
      },
      "source": [
        "model = SVC()\n",
        "model.fit(X_train, y_train)\n",
        "y_pred = LogReg.predict(X_test)\n",
        "print(\"Accuracy on df test data is : %0.2f\" %(accuracy_score(y_test, y_pred)*100))\n",
        "y_train_pred = LogReg.predict(X_train)\n",
        "print(\"Accuracy on df train data is : %0.2f\" %(accuracy_score(y_train, y_train_pred)*100))\n",
        "print(confusion_matrix(y_test, y_pred))"
      ],
      "execution_count": 212,
      "outputs": [
        {
          "output_type": "stream",
          "text": [
            "Accuracy on df test data is : 85.38\n",
            "Accuracy on df train data is : 85.44\n",
            "[[13159   996]\n",
            " [ 1888  3690]]\n"
          ],
          "name": "stdout"
        }
      ]
    },
    {
      "cell_type": "markdown",
      "metadata": {
        "id": "v8xZlmwleiJJ"
      },
      "source": [
        "# Sentiment analyze using vader"
      ]
    },
    {
      "cell_type": "code",
      "metadata": {
        "id": "jZHATQn3en56"
      },
      "source": [
        "sid = SentimentIntensityAnalyzer()\n",
        "text_df[\"sentiments_all\"] = text_df['opinion_connected'].apply(lambda x: sid.polarity_scores(x))\n"
      ],
      "execution_count": 199,
      "outputs": []
    },
    {
      "cell_type": "code",
      "metadata": {
        "colab": {
          "base_uri": "https://localhost:8080/",
          "height": 279
        },
        "id": "NB9vU3s2jStG",
        "outputId": "bc8af4c2-35b0-4dc6-88d2-5d5c041c1ae3"
      },
      "source": [
        "text_df['compound_all']  = text_df[\"sentiments_all\"].apply(lambda score_dict: score_dict['compound'])\n",
        "text_df['compound_all']  = text_df[\"compound_all\"].apply(lambda c: 0 if c >=0 else 1)\n",
        "text_df['sid'] = np.where(text_df[\"is_neg\"] == text_df[\"compound_all\"], True, False)\n",
        "text_df.head()"
      ],
      "execution_count": 200,
      "outputs": [
        {
          "output_type": "execute_result",
          "data": {
            "text/html": [
              "<div>\n",
              "<style scoped>\n",
              "    .dataframe tbody tr th:only-of-type {\n",
              "        vertical-align: middle;\n",
              "    }\n",
              "\n",
              "    .dataframe tbody tr th {\n",
              "        vertical-align: top;\n",
              "    }\n",
              "\n",
              "    .dataframe thead th {\n",
              "        text-align: right;\n",
              "    }\n",
              "</style>\n",
              "<table border=\"1\" class=\"dataframe\">\n",
              "  <thead>\n",
              "    <tr style=\"text-align: right;\">\n",
              "      <th></th>\n",
              "      <th>review</th>\n",
              "      <th>summary</th>\n",
              "      <th>is_neg</th>\n",
              "      <th>opinion_connected</th>\n",
              "      <th>sentiments_all</th>\n",
              "      <th>compound_all</th>\n",
              "      <th>sid</th>\n",
              "    </tr>\n",
              "  </thead>\n",
              "  <tbody>\n",
              "    <tr>\n",
              "      <th>0</th>\n",
              "      <td>First of all, the company took my money and se...</td>\n",
              "      <td>Don't buy!</td>\n",
              "      <td>1</td>\n",
              "      <td>First of all, the company took my money and se...</td>\n",
              "      <td>{'neg': 0.063, 'neu': 0.879, 'pos': 0.058, 'co...</td>\n",
              "      <td>1</td>\n",
              "      <td>True</td>\n",
              "    </tr>\n",
              "    <tr>\n",
              "      <th>1</th>\n",
              "      <td>Great product- tried others and this is a ten ...</td>\n",
              "      <td>Mobile Action Bluetooth Mobile Phone Tool Soft...</td>\n",
              "      <td>0</td>\n",
              "      <td>Great product- tried others and this is a ten ...</td>\n",
              "      <td>{'neg': 0.0, 'neu': 0.706, 'pos': 0.294, 'comp...</td>\n",
              "      <td>0</td>\n",
              "      <td>True</td>\n",
              "    </tr>\n",
              "    <tr>\n",
              "      <th>2</th>\n",
              "      <td>works real good....a little hard to set up...w...</td>\n",
              "      <td>good</td>\n",
              "      <td>0</td>\n",
              "      <td>works real good....a little hard to set up...w...</td>\n",
              "      <td>{'neg': 0.041, 'neu': 0.852, 'pos': 0.107, 'co...</td>\n",
              "      <td>0</td>\n",
              "      <td>True</td>\n",
              "    </tr>\n",
              "    <tr>\n",
              "      <th>3</th>\n",
              "      <td>The price was right for this cable ($11.95+$4....</td>\n",
              "      <td>No instructions included...</td>\n",
              "      <td>0</td>\n",
              "      <td>The price was right for this cable ($11.95+$4....</td>\n",
              "      <td>{'neg': 0.043, 'neu': 0.859, 'pos': 0.097, 'co...</td>\n",
              "      <td>0</td>\n",
              "      <td>True</td>\n",
              "    </tr>\n",
              "    <tr>\n",
              "      <th>4</th>\n",
              "      <td>this is NOT a DATA CABLE this is only a USB ch...</td>\n",
              "      <td>NOT A DATA CABLE</td>\n",
              "      <td>1</td>\n",
              "      <td>this is NOT a DATA CABLE this is only a USB ch...</td>\n",
              "      <td>{'neg': 0.0, 'neu': 1.0, 'pos': 0.0, 'compound...</td>\n",
              "      <td>0</td>\n",
              "      <td>False</td>\n",
              "    </tr>\n",
              "  </tbody>\n",
              "</table>\n",
              "</div>"
            ],
            "text/plain": [
              "                                              review  ...    sid\n",
              "0  First of all, the company took my money and se...  ...   True\n",
              "1  Great product- tried others and this is a ten ...  ...   True\n",
              "2  works real good....a little hard to set up...w...  ...   True\n",
              "3  The price was right for this cable ($11.95+$4....  ...   True\n",
              "4  this is NOT a DATA CABLE this is only a USB ch...  ...  False\n",
              "\n",
              "[5 rows x 7 columns]"
            ]
          },
          "metadata": {
            "tags": []
          },
          "execution_count": 200
        }
      ]
    },
    {
      "cell_type": "code",
      "metadata": {
        "colab": {
          "base_uri": "https://localhost:8080/"
        },
        "id": "heqY-B55k_cg",
        "outputId": "831d73e5-eb18-4563-a432-5913a6379041"
      },
      "source": [
        "text_df[\"sid\"].value_counts(normalize = True)"
      ],
      "execution_count": 201,
      "outputs": [
        {
          "output_type": "execute_result",
          "data": {
            "text/plain": [
              "True     0.809502\n",
              "False    0.190498\n",
              "Name: sid, dtype: float64"
            ]
          },
          "metadata": {
            "tags": []
          },
          "execution_count": 201
        }
      ]
    },
    {
      "cell_type": "markdown",
      "metadata": {
        "id": "49kxR25S50W4"
      },
      "source": [
        "## Second try dropping neutral 3.0 score"
      ]
    },
    {
      "cell_type": "code",
      "metadata": {
        "id": "9u6HRJ9S5hKP"
      },
      "source": [
        "text_df2 = pd.DataFrame([])\n",
        "text_df2[\"review\"] = df['review/text']\n",
        "text_df2[\"summary\"] = df['review/summary']\n",
        "text_df2[\"is_neg\"] = df['review/score']\n",
        "text_df2 = text_df2[text_df2['is_neg'] != 3.0]\n",
        "text_df2[\"is_neg\"] = text_df2[\"is_neg\"].apply(lambda x: 1 if x < 3 else 0)\n",
        "text_df2['opinion_connected'] = text_df[\"review\"]+' ' + text_df[\"summary\"]\n",
        "\n",
        "text_df2[\"sentiments_all\"] = text_df2['opinion_connected'].apply(lambda x: sid.polarity_scores(x))\n",
        "text_df2['compound_all']  = text_df2[\"sentiments_all\"].apply(lambda score_dict: score_dict['compound'])\n",
        "text_df2['compound_all']  = text_df2[\"compound_all\"].apply(lambda c: 0 if c >=0 else 1)\n"
      ],
      "execution_count": null,
      "outputs": []
    },
    {
      "cell_type": "code",
      "metadata": {
        "colab": {
          "base_uri": "https://localhost:8080/"
        },
        "id": "VwXZDyTu7pV1",
        "outputId": "9aa654c6-9bde-42ef-864f-3fab67bccaf4"
      },
      "source": [
        "text_df2['sid'] = np.where(text_df2[\"is_neg\"] == text_df2[\"compound_all\"], True, False)\n",
        "text_df2[\"sid\"].value_counts(normalize = True)"
      ],
      "execution_count": 218,
      "outputs": [
        {
          "output_type": "execute_result",
          "data": {
            "text/plain": [
              "True     0.818504\n",
              "False    0.181496\n",
              "Name: sid, dtype: float64"
            ]
          },
          "metadata": {
            "tags": []
          },
          "execution_count": 218
        }
      ]
    },
    {
      "cell_type": "markdown",
      "metadata": {
        "id": "2EQzNR6N7tsf"
      },
      "source": [
        "result is similar to previous when we categorize 3 as positive"
      ]
    },
    {
      "cell_type": "markdown",
      "metadata": {
        "id": "cjTdN8aGtFA7"
      },
      "source": [
        "# Trending"
      ]
    },
    {
      "cell_type": "code",
      "metadata": {
        "colab": {
          "base_uri": "https://localhost:8080/",
          "height": 518
        },
        "id": "ldpddoiwty_C",
        "outputId": "91b648ca-6414-43c3-979a-edfd60f5c2b8"
      },
      "source": [
        "df.head()"
      ],
      "execution_count": 202,
      "outputs": [
        {
          "output_type": "execute_result",
          "data": {
            "text/html": [
              "<div>\n",
              "<style scoped>\n",
              "    .dataframe tbody tr th:only-of-type {\n",
              "        vertical-align: middle;\n",
              "    }\n",
              "\n",
              "    .dataframe tbody tr th {\n",
              "        vertical-align: top;\n",
              "    }\n",
              "\n",
              "    .dataframe thead th {\n",
              "        text-align: right;\n",
              "    }\n",
              "</style>\n",
              "<table border=\"1\" class=\"dataframe\">\n",
              "  <thead>\n",
              "    <tr style=\"text-align: right;\">\n",
              "      <th></th>\n",
              "      <th>product/productId</th>\n",
              "      <th>product/title</th>\n",
              "      <th>product/price</th>\n",
              "      <th>review/userId</th>\n",
              "      <th>review/profileName</th>\n",
              "      <th>review/helpfulness</th>\n",
              "      <th>review/score</th>\n",
              "      <th>review/time</th>\n",
              "      <th>review/summary</th>\n",
              "      <th>review/text</th>\n",
              "      <th>review/usefulness list</th>\n",
              "      <th>review/usefulness</th>\n",
              "      <th>review_length</th>\n",
              "      <th>category</th>\n",
              "    </tr>\n",
              "  </thead>\n",
              "  <tbody>\n",
              "    <tr>\n",
              "      <th>0</th>\n",
              "      <td>B000JVER7W</td>\n",
              "      <td>Mobile Action MA730 Handset Manager - Bluetoot...</td>\n",
              "      <td>NaN</td>\n",
              "      <td>A1RXYH9ROBAKEZ</td>\n",
              "      <td>A. Igoe</td>\n",
              "      <td>0/0</td>\n",
              "      <td>1.0</td>\n",
              "      <td>2009-01-31</td>\n",
              "      <td>Don't buy!</td>\n",
              "      <td>First of all, the company took my money and se...</td>\n",
              "      <td>[0, 0]</td>\n",
              "      <td>0</td>\n",
              "      <td>716</td>\n",
              "      <td>noname</td>\n",
              "    </tr>\n",
              "    <tr>\n",
              "      <th>1</th>\n",
              "      <td>B000JVER7W</td>\n",
              "      <td>Mobile Action MA730 Handset Manager - Bluetoot...</td>\n",
              "      <td>NaN</td>\n",
              "      <td>A7L6E1KSJTAJ6</td>\n",
              "      <td>Steven Martz</td>\n",
              "      <td>0/0</td>\n",
              "      <td>5.0</td>\n",
              "      <td>2007-10-04</td>\n",
              "      <td>Mobile Action Bluetooth Mobile Phone Tool Soft...</td>\n",
              "      <td>Great product- tried others and this is a ten ...</td>\n",
              "      <td>[0, 0]</td>\n",
              "      <td>0</td>\n",
              "      <td>164</td>\n",
              "      <td>noname</td>\n",
              "    </tr>\n",
              "    <tr>\n",
              "      <th>2</th>\n",
              "      <td>B000JVER7W</td>\n",
              "      <td>Mobile Action MA730 Handset Manager - Bluetoot...</td>\n",
              "      <td>NaN</td>\n",
              "      <td>A2NOQQ7I6PU7CW</td>\n",
              "      <td>Daniel M. Johnson \"rocknbluesharp\"</td>\n",
              "      <td>0/0</td>\n",
              "      <td>4.0</td>\n",
              "      <td>2007-08-10</td>\n",
              "      <td>good</td>\n",
              "      <td>works real good....a little hard to set up...w...</td>\n",
              "      <td>[0, 0]</td>\n",
              "      <td>0</td>\n",
              "      <td>146</td>\n",
              "      <td>noname</td>\n",
              "    </tr>\n",
              "    <tr>\n",
              "      <th>3</th>\n",
              "      <td>B000924R5I</td>\n",
              "      <td>USB Data Cable for Sony-Ericsson Z600, Z500, Z...</td>\n",
              "      <td>NaN</td>\n",
              "      <td>A29Q0CLOF0U8BN</td>\n",
              "      <td>E. Owens</td>\n",
              "      <td>4/5</td>\n",
              "      <td>4.0</td>\n",
              "      <td>2006-04-28</td>\n",
              "      <td>No instructions included...</td>\n",
              "      <td>The price was right for this cable ($11.95+$4....</td>\n",
              "      <td>[4, 5]</td>\n",
              "      <td>3</td>\n",
              "      <td>1340</td>\n",
              "      <td>noname</td>\n",
              "    </tr>\n",
              "    <tr>\n",
              "      <th>4</th>\n",
              "      <td>B000924R5I</td>\n",
              "      <td>USB Data Cable for Sony-Ericsson Z600, Z500, Z...</td>\n",
              "      <td>NaN</td>\n",
              "      <td>ANNHJND2MHUI3</td>\n",
              "      <td>Isaac Salas \"=CRBF=gB^link\"</td>\n",
              "      <td>0/0</td>\n",
              "      <td>1.0</td>\n",
              "      <td>2007-03-12</td>\n",
              "      <td>NOT A DATA CABLE</td>\n",
              "      <td>this is NOT a DATA CABLE this is only a USB ch...</td>\n",
              "      <td>[0, 0]</td>\n",
              "      <td>0</td>\n",
              "      <td>66</td>\n",
              "      <td>noname</td>\n",
              "    </tr>\n",
              "  </tbody>\n",
              "</table>\n",
              "</div>"
            ],
            "text/plain": [
              "  product/productId  ... category\n",
              "0        B000JVER7W  ...   noname\n",
              "1        B000JVER7W  ...   noname\n",
              "2        B000JVER7W  ...   noname\n",
              "3        B000924R5I  ...   noname\n",
              "4        B000924R5I  ...   noname\n",
              "\n",
              "[5 rows x 14 columns]"
            ]
          },
          "metadata": {
            "tags": []
          },
          "execution_count": 202
        }
      ]
    },
    {
      "cell_type": "code",
      "metadata": {
        "colab": {
          "base_uri": "https://localhost:8080/"
        },
        "id": "3typ0hRptGgN",
        "outputId": "53f716bb-56e7-42c5-9518-2622f6d566f1"
      },
      "source": [
        "def trending(day='2007-02-16',date=df, days_to_subtract=10, no_sold=10, score=4.0):\n",
        "  '''\n",
        "  :param day: day when we wants show trending products in format \"%Y-%m-%d\"\n",
        "  :param date: dateframe of reviews\n",
        "  :param days_to_subtract: how many days back we are taking under revision\n",
        "  :param no_sold: number of sold items from (day-days_to_subtract to day) to qualify as trending\n",
        "  :param score: score over to qualify as trending\n",
        "  returns products id \n",
        "  '''\n",
        "  day =datetime.strptime(day, \"%Y-%m-%d\")\n",
        "  d = day - timedelta(days=days_to_subtract)\n",
        "\n",
        "  df1=date[(d<=date['review/time']) & (date['review/time']<=day)]\n",
        "  sum = pd.DataFrame(df1['product/productId'].value_counts())\n",
        "  sum['mean'] = round(df1.groupby('product/productId')['review/score'].mean(), 2)\n",
        "  sum = sum[sum['product/productId']>=no_sold]\n",
        "  sum = sum[sum['mean']>=score]\n",
        "  \n",
        "  return sum.index\n",
        "print(trending())\n"
      ],
      "execution_count": 203,
      "outputs": [
        {
          "output_type": "stream",
          "text": [
            "Index(['B0009B0IX4'], dtype='object')\n"
          ],
          "name": "stdout"
        }
      ]
    },
    {
      "cell_type": "markdown",
      "metadata": {
        "id": "yVkOkgPm3IrM"
      },
      "source": [
        "# Recomended in category"
      ]
    },
    {
      "cell_type": "code",
      "metadata": {
        "colab": {
          "base_uri": "https://localhost:8080/"
        },
        "id": "d4ML4s7h2d-0",
        "outputId": "83c926d5-13ea-4e4f-fb90-e02a140cdc77"
      },
      "source": [
        "def recommended(df = summed, nor_valid=10, no_best=5):\n",
        "  '''\n",
        "  :param df: DataFrame from we are taking data\n",
        "  :param nor_valid: review is valid over this number of reviews\n",
        "  :param no_best: return no_best best products in every category\n",
        "  return recommended product id's under given information in every category\n",
        "  '''\n",
        "\n",
        "  df['category'] = df['name'].apply(lambda x : check(x, marks))\n",
        "  df = df.sort_values(['category', 'mean'],ascending=False)\n",
        "  df = df[df['count']>nor_valid] #review will be valid if there is more than 10 reviews\n",
        "  recommended = df.groupby('category')['mean'].nlargest(no_best)\n",
        "\n",
        "  return recommended\n",
        "recommended()"
      ],
      "execution_count": 188,
      "outputs": [
        {
          "output_type": "execute_result",
          "data": {
            "text/plain": [
              "category                 \n",
              "blackberry     B000FFEH04    4.87\n",
              "               B000FEHG76    4.85\n",
              "               B000OEMIZM    4.57\n",
              "               B000ROCJ2Q    4.55\n",
              "               B000MUP62A    4.47\n",
              "ericsson       B000055ZON    3.92\n",
              "               B000I2TPGU    3.73\n",
              "               B0000ARS2K    3.73\n",
              "               B000I2S2EG    3.67\n",
              "htc            B000BT0VF4    4.42\n",
              "               B000N38FI8    4.39\n",
              "               B000I1XLG6    4.17\n",
              "               B000M564WG    4.15\n",
              "               B000N38FHE    4.13\n",
              "lg             B000EA0HVI    4.83\n",
              "               B000IVA024    4.64\n",
              "               B000JCP0S6    4.63\n",
              "               B000JFLDWK    4.58\n",
              "               B000HZY7AW    4.56\n",
              "motorola       B000FI7230    4.91\n",
              "               B0003031WG    4.86\n",
              "               B000BX7Q1C    4.78\n",
              "               B000FHBEFS    4.77\n",
              "               B000BQOOQ4    4.77\n",
              "nokia          B00004W77R    4.93\n",
              "               B0009RFX24    4.82\n",
              "               B000JJH2VW    4.80\n",
              "               B000IVDI4Q    4.74\n",
              "               B000JCSBQY    4.50\n",
              "noname         B000F6OJHE    4.91\n",
              "               B000NRD0UC    4.82\n",
              "               B000LNFZ7E    4.78\n",
              "               B000F0010E    4.73\n",
              "               B000IBF5PG    4.73\n",
              "samsung        B000PQ2SBI    4.69\n",
              "               B000J2D9TS    4.62\n",
              "               B000FDXH8E    4.46\n",
              "               B000ND01Q2    4.35\n",
              "               B000PKKMI0    4.32\n",
              "sony           B000PCCLPU    4.08\n",
              "               B000PCCLPA    3.85\n",
              "               B000095SB0    3.76\n",
              "               B000AM8RQM    3.67\n",
              "sony ericsson  B000HCQKTG    4.62\n",
              "               B0009SHMUY    4.56\n",
              "               B0009JKJQ2    4.50\n",
              "               B000AATKBA    4.48\n",
              "               B000FSJYQ8    4.42\n",
              "Name: mean, dtype: float64"
            ]
          },
          "metadata": {
            "tags": []
          },
          "execution_count": 188
        }
      ]
    },
    {
      "cell_type": "markdown",
      "metadata": {
        "id": "oozFfrSL8nIn"
      },
      "source": [
        "## recomended in category under price"
      ]
    },
    {
      "cell_type": "code",
      "metadata": {
        "colab": {
          "base_uri": "https://localhost:8080/"
        },
        "id": "iIR6qV6L8muy",
        "outputId": "00ce5cfa-4464-4ba0-dfdb-6b3ad31e402a"
      },
      "source": [
        "def recommended_under_price(df = summed, nor_valid=10, no_best=5,price=100):\n",
        "  '''\n",
        "  :param df: DataFrame from we are taking data\n",
        "  :param nor_valid: review is valid over this number of reviews\n",
        "  :param no_best: return no_best best products in every category\n",
        "  :param price: products under this price will return\n",
        "  return recommended product id's under given information in every category\n",
        "  '''\n",
        "  df.dropna()\n",
        "  df= df[df['price']<price]\n",
        "  df['category'] = df['name'].apply(lambda x : check(x, marks))\n",
        "  df = df.sort_values(['category', 'mean'],ascending=False)\n",
        "  df = df[df['count']>nor_valid] #review will be valid if there is more than 10 reviews\n",
        "  recommended = df.groupby('category')['mean'].nlargest(no_best)\n",
        "\n",
        "  return recommended\n",
        "recommended_under_price().sort_values(ascending=False)"
      ],
      "execution_count": 228,
      "outputs": [
        {
          "output_type": "stream",
          "text": [
            "/usr/local/lib/python3.7/dist-packages/ipykernel_launcher.py:11: SettingWithCopyWarning: \n",
            "A value is trying to be set on a copy of a slice from a DataFrame.\n",
            "Try using .loc[row_indexer,col_indexer] = value instead\n",
            "\n",
            "See the caveats in the documentation: https://pandas.pydata.org/pandas-docs/stable/user_guide/indexing.html#returning-a-view-versus-a-copy\n",
            "  # This is added back by InteractiveShellApp.init_path()\n"
          ],
          "name": "stderr"
        },
        {
          "output_type": "execute_result",
          "data": {
            "text/plain": [
              "category                 \n",
              "nokia          B00004W77R    4.93\n",
              "motorola       B000FI7230    4.91\n",
              "noname         B000F6OJHE    4.91\n",
              "blackberry     B000FFEH04    4.87\n",
              "motorola       B0003031WG    4.86\n",
              "lg             B000EA0HVI    4.83\n",
              "nokia          B0009RFX24    4.82\n",
              "noname         B000NRD0UC    4.82\n",
              "nokia          B000JJH2VW    4.80\n",
              "motorola       B000FHBEFS    4.77\n",
              "nokia          B000IVDI4Q    4.74\n",
              "noname         B000IBF5PG    4.73\n",
              "               B00008NGK0    4.71\n",
              "               B000059MZ7    4.71\n",
              "samsung        B000PQ2SBI    4.69\n",
              "motorola       B000PYN9JA    4.64\n",
              "lg             B000JCP0S6    4.63\n",
              "motorola       B00074JWH6    4.62\n",
              "samsung        B000J2D9TS    4.62\n",
              "lg             B000JFLDWK    4.58\n",
              "sony ericsson  B0009SHMUY    4.56\n",
              "blackberry     B000ROCJ2Q    4.55\n",
              "lg             B000QFQDPA    4.53\n",
              "nokia          B0008JEJBO    4.47\n",
              "samsung        B000FDXH8E    4.46\n",
              "blackberry     B000LAD42A    4.45\n",
              "               B000JZ96XI    4.42\n",
              "htc            B000BT0VF4    4.42\n",
              "               B000N38FI8    4.39\n",
              "sony ericsson  B000JJVHWC    4.39\n",
              "blackberry     B000JUQ3XY    4.34\n",
              "sony ericsson  B000FDVK24    4.34\n",
              "lg             B000HZZIGO    4.34\n",
              "samsung        B000PKKMI0    4.32\n",
              "               B000PI9FMG    4.31\n",
              "htc            B000I1XLG6    4.17\n",
              "sony ericsson  B000E9722G    4.13\n",
              "htc            B000I8ELI6    4.05\n",
              "sony ericsson  B000PYRUT0    3.98\n",
              "htc            B000I4WP24    3.89\n",
              "ericsson       B0000ARS2K    3.73\n",
              "sony           B000AM8RQM    3.67\n",
              "Name: mean, dtype: float64"
            ]
          },
          "metadata": {
            "tags": []
          },
          "execution_count": 228
        }
      ]
    },
    {
      "cell_type": "markdown",
      "metadata": {
        "id": "ErTWpVI13Liq"
      },
      "source": [
        "# Best products with over 30 reviews"
      ]
    },
    {
      "cell_type": "code",
      "metadata": {
        "colab": {
          "base_uri": "https://localhost:8080/"
        },
        "id": "slpJutXZ2izb",
        "outputId": "bcee608c-50fc-4a66-d6ce-89d28b7ece81"
      },
      "source": [
        "def best_overall(df = df, nor_valid=30, no_best=10):\n",
        "  '''\n",
        "  :param df: DataFrame from we are taking data\n",
        "  :param nor_valid: review is valid over this number of reviews\n",
        "  :param no_best: return no_best best products\n",
        "  return best products under given information\n",
        "  '''\n",
        "  usefull_reviews = df.copy()\n",
        "  usefull_reviews = usefull_reviews[usefull_reviews['review/usefulness']>=0]\n",
        "  usefull_reviews['review/usefulness'] = usefull_reviews['review/usefulness']+1\n",
        "  summed = pd.DataFrame(usefull_reviews['product/productId'].value_counts())\n",
        "  summed.columns = ['count']\n",
        "  summed['mean'] = round(usefull_reviews.groupby('product/productId')['review/score'].mean(), 2)\n",
        "  summed = summed[summed['count']>nor_valid]\n",
        "  summed = summed['mean'].nlargest(no_best)\n",
        "\n",
        "  return summed\n",
        "best_overall()"
      ],
      "execution_count": 189,
      "outputs": [
        {
          "output_type": "execute_result",
          "data": {
            "text/plain": [
              "B000FEHG76    4.85\n",
              "B000FHBEFS    4.77\n",
              "B000IVDI4Q    4.74\n",
              "B000059MZ7    4.71\n",
              "B00008NGK0    4.71\n",
              "B000059MYY    4.71\n",
              "B00004WHF4    4.71\n",
              "B000059MZ2    4.71\n",
              "B000IUYY2W    4.71\n",
              "B000BHAUSE    4.68\n",
              "Name: mean, dtype: float64"
            ]
          },
          "metadata": {
            "tags": []
          },
          "execution_count": 189
        }
      ]
    },
    {
      "cell_type": "code",
      "metadata": {
        "id": "Zo_k4xWSLDH6"
      },
      "source": [
        ""
      ],
      "execution_count": null,
      "outputs": []
    }
  ]
}